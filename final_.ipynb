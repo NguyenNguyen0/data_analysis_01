{
 "cells": [
  {
   "cell_type": "code",
   "execution_count": 2,
   "metadata": {},
   "outputs": [],
   "source": [
    "import pandas as pd\n",
    "from sklearn.model_selection import train_test_split\n",
    "from sklearn.linear_model import LinearRegression\n",
    "from sklearn.metrics import r2_score, mean_absolute_error\n",
    "import numpy as np"
   ]
  },
  {
   "cell_type": "code",
   "execution_count": 3,
   "metadata": {},
   "outputs": [],
   "source": [
    "df = pd.read_excel('Dethi_data.xlsx',sheet_name=\"data\")"
   ]
  },
  {
   "cell_type": "code",
   "execution_count": 4,
   "metadata": {},
   "outputs": [
    {
     "data": {
      "text/html": [
       "<div>\n",
       "<style scoped>\n",
       "    .dataframe tbody tr th:only-of-type {\n",
       "        vertical-align: middle;\n",
       "    }\n",
       "\n",
       "    .dataframe tbody tr th {\n",
       "        vertical-align: top;\n",
       "    }\n",
       "\n",
       "    .dataframe thead th {\n",
       "        text-align: right;\n",
       "    }\n",
       "</style>\n",
       "<table border=\"1\" class=\"dataframe\">\n",
       "  <thead>\n",
       "    <tr style=\"text-align: right;\">\n",
       "      <th></th>\n",
       "      <th>order</th>\n",
       "      <th>limit</th>\n",
       "      <th>clear</th>\n",
       "      <th>drop</th>\n",
       "      <th>delete</th>\n",
       "      <th>remove</th>\n",
       "      <th>c1</th>\n",
       "      <th>c2</th>\n",
       "      <th>c3</th>\n",
       "      <th>c4</th>\n",
       "      <th>...</th>\n",
       "      <th>d4</th>\n",
       "      <th>d5</th>\n",
       "      <th>d6</th>\n",
       "      <th>f1</th>\n",
       "      <th>f2</th>\n",
       "      <th>f3</th>\n",
       "      <th>f4</th>\n",
       "      <th>f5</th>\n",
       "      <th>f6</th>\n",
       "      <th>default</th>\n",
       "    </tr>\n",
       "  </thead>\n",
       "  <tbody>\n",
       "    <tr>\n",
       "      <th>0</th>\n",
       "      <td>1</td>\n",
       "      <td>20000</td>\n",
       "      <td>y</td>\n",
       "      <td>c</td>\n",
       "      <td>b</td>\n",
       "      <td>24</td>\n",
       "      <td>2</td>\n",
       "      <td>2</td>\n",
       "      <td>-1</td>\n",
       "      <td>-1</td>\n",
       "      <td>...</td>\n",
       "      <td>0</td>\n",
       "      <td>0</td>\n",
       "      <td>0</td>\n",
       "      <td>0</td>\n",
       "      <td>689</td>\n",
       "      <td>0</td>\n",
       "      <td>0</td>\n",
       "      <td>0</td>\n",
       "      <td>0</td>\n",
       "      <td>1</td>\n",
       "    </tr>\n",
       "    <tr>\n",
       "      <th>1</th>\n",
       "      <td>2</td>\n",
       "      <td>120000</td>\n",
       "      <td>y</td>\n",
       "      <td>c</td>\n",
       "      <td>c</td>\n",
       "      <td>26</td>\n",
       "      <td>-1</td>\n",
       "      <td>2</td>\n",
       "      <td>0</td>\n",
       "      <td>0</td>\n",
       "      <td>...</td>\n",
       "      <td>3272</td>\n",
       "      <td>3455</td>\n",
       "      <td>3261</td>\n",
       "      <td>0</td>\n",
       "      <td>1000</td>\n",
       "      <td>1000</td>\n",
       "      <td>1000</td>\n",
       "      <td>0</td>\n",
       "      <td>2000</td>\n",
       "      <td>1</td>\n",
       "    </tr>\n",
       "    <tr>\n",
       "      <th>2</th>\n",
       "      <td>3</td>\n",
       "      <td>90000</td>\n",
       "      <td>y</td>\n",
       "      <td>c</td>\n",
       "      <td>c</td>\n",
       "      <td>34</td>\n",
       "      <td>0</td>\n",
       "      <td>0</td>\n",
       "      <td>0</td>\n",
       "      <td>0</td>\n",
       "      <td>...</td>\n",
       "      <td>14331</td>\n",
       "      <td>14948</td>\n",
       "      <td>15549</td>\n",
       "      <td>1518</td>\n",
       "      <td>1500</td>\n",
       "      <td>1000</td>\n",
       "      <td>1000</td>\n",
       "      <td>1000</td>\n",
       "      <td>5000</td>\n",
       "      <td>0</td>\n",
       "    </tr>\n",
       "    <tr>\n",
       "      <th>3</th>\n",
       "      <td>4</td>\n",
       "      <td>50000</td>\n",
       "      <td>y</td>\n",
       "      <td>c</td>\n",
       "      <td>b</td>\n",
       "      <td>37</td>\n",
       "      <td>0</td>\n",
       "      <td>0</td>\n",
       "      <td>0</td>\n",
       "      <td>0</td>\n",
       "      <td>...</td>\n",
       "      <td>28314</td>\n",
       "      <td>28959</td>\n",
       "      <td>29547</td>\n",
       "      <td>2000</td>\n",
       "      <td>2019</td>\n",
       "      <td>1200</td>\n",
       "      <td>1100</td>\n",
       "      <td>1069</td>\n",
       "      <td>1000</td>\n",
       "      <td>0</td>\n",
       "    </tr>\n",
       "    <tr>\n",
       "      <th>4</th>\n",
       "      <td>5</td>\n",
       "      <td>50000</td>\n",
       "      <td>x</td>\n",
       "      <td>c</td>\n",
       "      <td>b</td>\n",
       "      <td>57</td>\n",
       "      <td>-1</td>\n",
       "      <td>0</td>\n",
       "      <td>-1</td>\n",
       "      <td>0</td>\n",
       "      <td>...</td>\n",
       "      <td>20940</td>\n",
       "      <td>19146</td>\n",
       "      <td>19131</td>\n",
       "      <td>2000</td>\n",
       "      <td>36681</td>\n",
       "      <td>10000</td>\n",
       "      <td>9000</td>\n",
       "      <td>689</td>\n",
       "      <td>679</td>\n",
       "      <td>0</td>\n",
       "    </tr>\n",
       "    <tr>\n",
       "      <th>5</th>\n",
       "      <td>6</td>\n",
       "      <td>50000</td>\n",
       "      <td>x</td>\n",
       "      <td>b</td>\n",
       "      <td>c</td>\n",
       "      <td>37</td>\n",
       "      <td>0</td>\n",
       "      <td>0</td>\n",
       "      <td>0</td>\n",
       "      <td>0</td>\n",
       "      <td>...</td>\n",
       "      <td>19394</td>\n",
       "      <td>19619</td>\n",
       "      <td>20024</td>\n",
       "      <td>2500</td>\n",
       "      <td>1815</td>\n",
       "      <td>657</td>\n",
       "      <td>1000</td>\n",
       "      <td>1000</td>\n",
       "      <td>800</td>\n",
       "      <td>0</td>\n",
       "    </tr>\n",
       "    <tr>\n",
       "      <th>6</th>\n",
       "      <td>7</td>\n",
       "      <td>500000</td>\n",
       "      <td>x</td>\n",
       "      <td>b</td>\n",
       "      <td>c</td>\n",
       "      <td>29</td>\n",
       "      <td>0</td>\n",
       "      <td>0</td>\n",
       "      <td>0</td>\n",
       "      <td>0</td>\n",
       "      <td>...</td>\n",
       "      <td>542653</td>\n",
       "      <td>483003</td>\n",
       "      <td>473944</td>\n",
       "      <td>55000</td>\n",
       "      <td>40000</td>\n",
       "      <td>38000</td>\n",
       "      <td>20239</td>\n",
       "      <td>13750</td>\n",
       "      <td>13770</td>\n",
       "      <td>0</td>\n",
       "    </tr>\n",
       "    <tr>\n",
       "      <th>7</th>\n",
       "      <td>8</td>\n",
       "      <td>100000</td>\n",
       "      <td>y</td>\n",
       "      <td>c</td>\n",
       "      <td>c</td>\n",
       "      <td>23</td>\n",
       "      <td>0</td>\n",
       "      <td>-1</td>\n",
       "      <td>-1</td>\n",
       "      <td>0</td>\n",
       "      <td>...</td>\n",
       "      <td>221</td>\n",
       "      <td>-159</td>\n",
       "      <td>567</td>\n",
       "      <td>380</td>\n",
       "      <td>601</td>\n",
       "      <td>0</td>\n",
       "      <td>581</td>\n",
       "      <td>1687</td>\n",
       "      <td>1542</td>\n",
       "      <td>0</td>\n",
       "    </tr>\n",
       "    <tr>\n",
       "      <th>8</th>\n",
       "      <td>9</td>\n",
       "      <td>140000</td>\n",
       "      <td>y</td>\n",
       "      <td>d</td>\n",
       "      <td>b</td>\n",
       "      <td>28</td>\n",
       "      <td>0</td>\n",
       "      <td>0</td>\n",
       "      <td>2</td>\n",
       "      <td>0</td>\n",
       "      <td>...</td>\n",
       "      <td>12211</td>\n",
       "      <td>11793</td>\n",
       "      <td>3719</td>\n",
       "      <td>3329</td>\n",
       "      <td>0</td>\n",
       "      <td>432</td>\n",
       "      <td>1000</td>\n",
       "      <td>1000</td>\n",
       "      <td>1000</td>\n",
       "      <td>0</td>\n",
       "    </tr>\n",
       "    <tr>\n",
       "      <th>9</th>\n",
       "      <td>10</td>\n",
       "      <td>20000</td>\n",
       "      <td>x</td>\n",
       "      <td>d</td>\n",
       "      <td>c</td>\n",
       "      <td>35</td>\n",
       "      <td>-2</td>\n",
       "      <td>-2</td>\n",
       "      <td>-2</td>\n",
       "      <td>-2</td>\n",
       "      <td>...</td>\n",
       "      <td>0</td>\n",
       "      <td>13007</td>\n",
       "      <td>13912</td>\n",
       "      <td>0</td>\n",
       "      <td>0</td>\n",
       "      <td>0</td>\n",
       "      <td>13007</td>\n",
       "      <td>1122</td>\n",
       "      <td>0</td>\n",
       "      <td>0</td>\n",
       "    </tr>\n",
       "  </tbody>\n",
       "</table>\n",
       "<p>10 rows × 25 columns</p>\n",
       "</div>"
      ],
      "text/plain": [
       "   order   limit clear drop delete  remove  c1  c2  c3  c4  ...      d4  \\\n",
       "0      1   20000     y    c      b      24   2   2  -1  -1  ...       0   \n",
       "1      2  120000     y    c      c      26  -1   2   0   0  ...    3272   \n",
       "2      3   90000     y    c      c      34   0   0   0   0  ...   14331   \n",
       "3      4   50000     y    c      b      37   0   0   0   0  ...   28314   \n",
       "4      5   50000     x    c      b      57  -1   0  -1   0  ...   20940   \n",
       "5      6   50000     x    b      c      37   0   0   0   0  ...   19394   \n",
       "6      7  500000     x    b      c      29   0   0   0   0  ...  542653   \n",
       "7      8  100000     y    c      c      23   0  -1  -1   0  ...     221   \n",
       "8      9  140000     y    d      b      28   0   0   2   0  ...   12211   \n",
       "9     10   20000     x    d      c      35  -2  -2  -2  -2  ...       0   \n",
       "\n",
       "       d5      d6     f1     f2     f3     f4     f5     f6  default  \n",
       "0       0       0      0    689      0      0      0      0        1  \n",
       "1    3455    3261      0   1000   1000   1000      0   2000        1  \n",
       "2   14948   15549   1518   1500   1000   1000   1000   5000        0  \n",
       "3   28959   29547   2000   2019   1200   1100   1069   1000        0  \n",
       "4   19146   19131   2000  36681  10000   9000    689    679        0  \n",
       "5   19619   20024   2500   1815    657   1000   1000    800        0  \n",
       "6  483003  473944  55000  40000  38000  20239  13750  13770        0  \n",
       "7    -159     567    380    601      0    581   1687   1542        0  \n",
       "8   11793    3719   3329      0    432   1000   1000   1000        0  \n",
       "9   13007   13912      0      0      0  13007   1122      0        0  \n",
       "\n",
       "[10 rows x 25 columns]"
      ]
     },
     "execution_count": 4,
     "metadata": {},
     "output_type": "execute_result"
    }
   ],
   "source": [
    "df.head(10)"
   ]
  },
  {
   "cell_type": "code",
   "execution_count": 5,
   "metadata": {},
   "outputs": [
    {
     "data": {
      "text/plain": [
       "np.True_"
      ]
     },
     "execution_count": 5,
     "metadata": {},
     "output_type": "execute_result"
    }
   ],
   "source": [
    "missing_drop = df['drop'].isnull().sum()\n",
    "missing_drop == 0"
   ]
  },
  {
   "cell_type": "code",
   "execution_count": 6,
   "metadata": {},
   "outputs": [
    {
     "data": {
      "text/plain": [
       "np.True_"
      ]
     },
     "execution_count": 6,
     "metadata": {},
     "output_type": "execute_result"
    }
   ],
   "source": [
    "missing_drop = df['delete'].isnull().sum()\n",
    "missing_drop == 0"
   ]
  },
  {
   "cell_type": "code",
   "execution_count": 7,
   "metadata": {},
   "outputs": [
    {
     "data": {
      "text/plain": [
       "np.True_"
      ]
     },
     "execution_count": 7,
     "metadata": {},
     "output_type": "execute_result"
    }
   ],
   "source": [
    "missing_drop = df['clear'].isnull().sum()\n",
    "missing_drop == 0"
   ]
  },
  {
   "cell_type": "code",
   "execution_count": 8,
   "metadata": {},
   "outputs": [
    {
     "data": {
      "text/plain": [
       "np.True_"
      ]
     },
     "execution_count": 8,
     "metadata": {},
     "output_type": "execute_result"
    }
   ],
   "source": [
    "missing_drop = df['remove'].isnull().sum()\n",
    "missing_drop == 0"
   ]
  },
  {
   "cell_type": "code",
   "execution_count": 9,
   "metadata": {},
   "outputs": [
    {
     "data": {
      "text/plain": [
       "(30000, 25)"
      ]
     },
     "execution_count": 9,
     "metadata": {},
     "output_type": "execute_result"
    }
   ],
   "source": [
    "df.shape"
   ]
  },
  {
   "cell_type": "code",
   "execution_count": 10,
   "metadata": {},
   "outputs": [
    {
     "data": {
      "text/plain": [
       "np.True_"
      ]
     },
     "execution_count": 10,
     "metadata": {},
     "output_type": "execute_result"
    }
   ],
   "source": [
    "missing_drop = df['order'].isnull().sum()\n",
    "missing_drop == 0"
   ]
  },
  {
   "cell_type": "code",
   "execution_count": 11,
   "metadata": {},
   "outputs": [
    {
     "data": {
      "text/plain": [
       "np.True_"
      ]
     },
     "execution_count": 11,
     "metadata": {},
     "output_type": "execute_result"
    }
   ],
   "source": [
    "missing_drop = df['limit'].isnull().sum()\n",
    "missing_drop == 0"
   ]
  },
  {
   "cell_type": "code",
   "execution_count": 12,
   "metadata": {},
   "outputs": [
    {
     "data": {
      "text/plain": [
       "{'c1': np.int64(0),\n",
       " 'd1': np.int64(0),\n",
       " 'f1': np.int64(0),\n",
       " 'c2': np.int64(0),\n",
       " 'd2': np.int64(0),\n",
       " 'f2': np.int64(0),\n",
       " 'f3': np.int64(0),\n",
       " 'f4': np.int64(0),\n",
       " 'f5': np.int64(0),\n",
       " 'f6': np.int64(0)}"
      ]
     },
     "execution_count": 12,
     "metadata": {},
     "output_type": "execute_result"
    }
   ],
   "source": [
    "missing_data = {col: df[col].isnull().sum() for col in ['c1', 'd1', 'f1', 'c2', 'd2', 'f2', 'f3', 'f4', 'f5', 'f6']}\n",
    "missing_data"
   ]
  },
  {
   "cell_type": "code",
   "execution_count": 13,
   "metadata": {},
   "outputs": [],
   "source": [
    "# Giai đoạn 1: Chia dữ liệu thành tập huấn luyện và kiểm thử\n",
    "random_state = 10\n",
    "features_stage1 = ['c1', 'd1', 'f1', 'c2', 'd2', 'f2', 'f3', 'f4', 'f5', 'f6']\n",
    "X = df[features_stage1]\n",
    "y = df['limit']\n",
    "\n",
    "# Chia dữ liệu\n",
    "X_train, X_test, y_train, y_test = train_test_split(X, y, test_size=0.1, random_state=random_state)\n",
    "\n",
    "# Câu 1: Mô tả tổng quan dữ liệu (đã mô tả ở trên)\n",
    "data_overview = {\n",
    "    \"Số lượng mẫu\": len(df),\n",
    "    \"Số lượng cột\": len(df.columns),\n",
    "    \"Cột đặc trưng\": features_stage1,\n",
    "    \"Cột mục tiêu\": \"limit\"\n",
    "}"
   ]
  },
  {
   "cell_type": "code",
   "execution_count": 14,
   "metadata": {},
   "outputs": [
    {
     "data": {
      "text/plain": [
       "{'Số lượng mẫu': 30000,\n",
       " 'Số lượng cột': 25,\n",
       " 'Cột đặc trưng': ['c1', 'd1', 'f1', 'c2', 'd2', 'f2', 'f3', 'f4', 'f5', 'f6'],\n",
       " 'Cột mục tiêu': 'limit'}"
      ]
     },
     "execution_count": 14,
     "metadata": {},
     "output_type": "execute_result"
    }
   ],
   "source": [
    "data_overview"
   ]
  },
  {
   "cell_type": "code",
   "execution_count": 15,
   "metadata": {},
   "outputs": [
    {
     "data": {
      "text/plain": [
       "{'df_train': 27000, 'df_test': 3000}"
      ]
     },
     "execution_count": 15,
     "metadata": {},
     "output_type": "execute_result"
    }
   ],
   "source": [
    "# Câu 2: Số lượng mẫu trong tập huấn luyện và kiểm thử\n",
    "num_samples = {\n",
    "    \"df_train\": len(X_train),\n",
    "    \"df_test\": len(X_test)\n",
    "}\n",
    "num_samples\n"
   ]
  },
  {
   "cell_type": "code",
   "execution_count": 16,
   "metadata": {},
   "outputs": [
    {
     "data": {
      "text/plain": [
       "(27000, 10)"
      ]
     },
     "execution_count": 16,
     "metadata": {},
     "output_type": "execute_result"
    }
   ],
   "source": [
    "df_train_shape = X_train.shape\n",
    "df_train_shape"
   ]
  },
  {
   "cell_type": "code",
   "execution_count": 17,
   "metadata": {},
   "outputs": [],
   "source": [
    "# Câu 3\n",
    "# Lấy danh sách các giá trị \"order\" thuộc từng tập\n",
    "# order_train = X_train['order'].tolist()\n",
    "# order_test = X_test['order'].tolist()\n",
    "\n",
    "# print(\"Danh sách giá trị 'order' thuộc tập huấn luyện (df_train):\", order_train)\n",
    "# print(\"Danh sách giá trị 'order' thuộc tập kiểm thử (df_test):\", order_test)"
   ]
  },
  {
   "cell_type": "code",
   "execution_count": 18,
   "metadata": {},
   "outputs": [],
   "source": [
    "# Xây dựng mô hình MLR\n",
    "mlr_model = LinearRegression()\n",
    "mlr_model.fit(X_train, y_train)\n",
    "y_pred = mlr_model.predict(X_test)\n",
    "\n",
    "# Câu 4: Giá trị R-Squared và MAE trên tập kiểm thử\n",
    "r_squared = r2_score(y_test, y_pred)\n",
    "mae = mean_absolute_error(y_test, y_pred)"
   ]
  },
  {
   "cell_type": "code",
   "execution_count": 19,
   "metadata": {},
   "outputs": [
    {
     "data": {
      "text/plain": [
       "0.30035000239325105"
      ]
     },
     "execution_count": 19,
     "metadata": {},
     "output_type": "execute_result"
    }
   ],
   "source": [
    "r_squared\n"
   ]
  },
  {
   "cell_type": "code",
   "execution_count": 20,
   "metadata": {},
   "outputs": [
    {
     "data": {
      "text/plain": [
       "82906.8479776907"
      ]
     },
     "execution_count": 20,
     "metadata": {},
     "output_type": "execute_result"
    }
   ],
   "source": [
    "mae"
   ]
  },
  {
   "cell_type": "code",
   "execution_count": 21,
   "metadata": {},
   "outputs": [
    {
     "name": "stderr",
     "output_type": "stream",
     "text": [
      "c:\\Users\\trung\\AppData\\Local\\Programs\\Python\\Python312\\Lib\\site-packages\\sklearn\\utils\\validation.py:2739: UserWarning: X does not have valid feature names, but LinearRegression was fitted with feature names\n",
      "  warnings.warn(\n"
     ]
    },
    {
     "data": {
      "text/plain": [
       "({'Số lượng mẫu': 30000,\n",
       "  'Số lượng cột': 25,\n",
       "  'Cột đặc trưng': ['c1',\n",
       "   'd1',\n",
       "   'f1',\n",
       "   'c2',\n",
       "   'd2',\n",
       "   'f2',\n",
       "   'f3',\n",
       "   'f4',\n",
       "   'f5',\n",
       "   'f6'],\n",
       "  'Cột mục tiêu': 'limit'},\n",
       " {'df_train': 27000, 'df_test': 3000},\n",
       " 0.30035000239325105,\n",
       " 82906.8479776907,\n",
       " np.float64(213447.42417044926))"
      ]
     },
     "execution_count": 21,
     "metadata": {},
     "output_type": "execute_result"
    }
   ],
   "source": [
    "# Câu 5: Dự đoán giá trị limit với đầu vào cho trước\n",
    "input_features = np.array([[-1.0, 9640.0, 15134.0, -2.0, 7404.0, 0.0, 7002.0, 8167.0, 3996.0, 2000.0]])\n",
    "predicted_limit = mlr_model.predict(input_features)[0]\n",
    "\n",
    "data_overview, num_samples, r_squared, mae, predicted_limit"
   ]
  },
  {
   "cell_type": "code",
   "execution_count": 22,
   "metadata": {},
   "outputs": [
    {
     "data": {
      "text/plain": [
       "np.float64(213447.42417044926)"
      ]
     },
     "execution_count": 22,
     "metadata": {},
     "output_type": "execute_result"
    }
   ],
   "source": [
    "predicted_limit"
   ]
  },
  {
   "cell_type": "code",
   "execution_count": 23,
   "metadata": {},
   "outputs": [],
   "source": [
    "from sklearn.neighbors import KNeighborsClassifier\n",
    "from sklearn.naive_bayes import GaussianNB\n",
    "from sklearn.preprocessing import LabelEncoder\n",
    "\n",
    "# Giai đoạn 2: Chuẩn bị mô hình Hybrid\n",
    "# Tạo nhãn giả định để thực hiện phân loại (cột 'limit' cần được làm nhãn nếu không có sẵn)\n",
    "label_encoder = LabelEncoder()\n",
    "y_class = label_encoder.fit_transform((y / 10000).astype(int))  # Làm nhãn từ 'limit' theo khoảng\n",
    "\n",
    "# KNN Feature Extraction\n",
    "knn_model = KNeighborsClassifier(n_neighbors=20)\n",
    "knn_model.fit(X_train, y_class[:len(X_train)])\n",
    "knn_train_prob = knn_model.predict_proba(X_train).max(axis=1)  # Xác suất lớn nhất từ KNN\n",
    "\n",
    "# Gaussian Naive Bayes Feature Extraction\n",
    "gnb_model = GaussianNB()\n",
    "gnb_model.fit(X_train, y_class[:len(X_train)])\n",
    "gnb_train_prob = gnb_model.predict_proba(X_train).max(axis=1)  # Xác suất lớn nhất từ GNB\n",
    "\n"
   ]
  },
  {
   "cell_type": "code",
   "execution_count": 24,
   "metadata": {},
   "outputs": [
    {
     "data": {
      "text/plain": [
       "0.15566666666666668"
      ]
     },
     "execution_count": 24,
     "metadata": {},
     "output_type": "execute_result"
    }
   ],
   "source": [
    "# Câu 6: Độ chính xác của KNN trên tập huấn luyện\n",
    "knn_accuracy = knn_model.score(X_train, y_class[:len(X_train)])\n",
    "knn_accuracy"
   ]
  },
  {
   "cell_type": "code",
   "execution_count": 25,
   "metadata": {},
   "outputs": [
    {
     "data": {
      "text/plain": [
       "np.float64(0.15792407407407408)"
      ]
     },
     "execution_count": 25,
     "metadata": {},
     "output_type": "execute_result"
    }
   ],
   "source": [
    "# Câu 7: Trung bình của knn_feature\n",
    "knn_feature_mean = knn_train_prob.mean()\n",
    "knn_feature_mean"
   ]
  },
  {
   "cell_type": "code",
   "execution_count": 26,
   "metadata": {},
   "outputs": [],
   "source": [
    "# Tích hợp các đặc trưng cho Hybrid Model\n",
    "features_hybrid = np.column_stack((knn_train_prob, gnb_train_prob, X_train[['f3', 'f4', 'f5', 'f6']].values))\n",
    "X_hybrid_test = np.column_stack((\n",
    "    knn_model.predict_proba(X_test).max(axis=1),\n",
    "    gnb_model.predict_proba(X_test).max(axis=1),\n",
    "    X_test[['f3', 'f4', 'f5', 'f6']].values\n",
    "))\n",
    "\n",
    "# Huấn luyện Hybrid Model\n",
    "hybrid_model = LinearRegression()\n",
    "hybrid_model.fit(features_hybrid, y_train)\n",
    "y_hybrid_pred = hybrid_model.predict(X_hybrid_test)"
   ]
  },
  {
   "cell_type": "code",
   "execution_count": 27,
   "metadata": {},
   "outputs": [
    {
     "name": "stdout",
     "output_type": "stream",
     "text": [
      "R-Squared của MLR: 0.30035000239325105\n",
      "R-Squared của Hybrid Model: 0.18974406366976126\n",
      "MAE của MLR: 82906.8479776907\n",
      "MAE của Hybrid Model: 91143.85239633473\n",
      "Mô hình tốt hơn: MLR\n"
     ]
    }
   ],
   "source": [
    "# Câu 9: So sánh R-Squared và MAE giữa Hybrid Model và MLR\n",
    "hybrid_r_squared = r2_score(y_test, y_hybrid_pred)\n",
    "hybrid_mae = mean_absolute_error(y_test, y_hybrid_pred)\n",
    "better_model = \"Hybrid Model\" if hybrid_r_squared > r_squared else \"MLR\"\n",
    "\n",
    "# In kết quả so sánh\n",
    "print(f\"R-Squared của MLR: {r_squared}\")\n",
    "print(f\"R-Squared của Hybrid Model: {hybrid_r_squared}\")\n",
    "print(f\"MAE của MLR: {mae}\")\n",
    "print(f\"MAE của Hybrid Model: {hybrid_mae}\")\n",
    "print(f\"Mô hình tốt hơn: {better_model}\")"
   ]
  },
  {
   "cell_type": "code",
   "execution_count": 28,
   "metadata": {},
   "outputs": [
    {
     "name": "stderr",
     "output_type": "stream",
     "text": [
      "c:\\Users\\trung\\AppData\\Local\\Programs\\Python\\Python312\\Lib\\site-packages\\sklearn\\utils\\validation.py:2739: UserWarning: X does not have valid feature names, but KNeighborsClassifier was fitted with feature names\n",
      "  warnings.warn(\n",
      "c:\\Users\\trung\\AppData\\Local\\Programs\\Python\\Python312\\Lib\\site-packages\\sklearn\\utils\\validation.py:2739: UserWarning: X does not have valid feature names, but GaussianNB was fitted with feature names\n",
      "  warnings.warn(\n"
     ]
    },
    {
     "ename": "ValueError",
     "evalue": "setting an array element with a sequence. The requested array has an inhomogeneous shape after 1 dimensions. The detected shape was (3,) + inhomogeneous part.",
     "output_type": "error",
     "traceback": [
      "\u001b[1;31m---------------------------------------------------------------------------\u001b[0m",
      "\u001b[1;31mValueError\u001b[0m                                Traceback (most recent call last)",
      "Cell \u001b[1;32mIn[28], line 2\u001b[0m\n\u001b[0;32m      1\u001b[0m \u001b[38;5;66;03m# Câu 10: Dự báo giá trị limit bởi Hybrid Model với đầu vào\u001b[39;00m\n\u001b[1;32m----> 2\u001b[0m input_hybrid_features \u001b[38;5;241m=\u001b[39m \u001b[43mnp\u001b[49m\u001b[38;5;241;43m.\u001b[39;49m\u001b[43marray\u001b[49m\u001b[43m(\u001b[49m\u001b[43m[\u001b[49m\n\u001b[0;32m      3\u001b[0m \u001b[43m    \u001b[49m\u001b[43mknn_model\u001b[49m\u001b[38;5;241;43m.\u001b[39;49m\u001b[43mpredict_proba\u001b[49m\u001b[43m(\u001b[49m\u001b[43minput_features\u001b[49m\u001b[43m)\u001b[49m\u001b[38;5;241;43m.\u001b[39;49m\u001b[43mmax\u001b[49m\u001b[43m(\u001b[49m\u001b[43maxis\u001b[49m\u001b[38;5;241;43m=\u001b[39;49m\u001b[38;5;241;43m1\u001b[39;49m\u001b[43m)\u001b[49m\u001b[43m,\u001b[49m\n\u001b[0;32m      4\u001b[0m \u001b[43m    \u001b[49m\u001b[43mgnb_model\u001b[49m\u001b[38;5;241;43m.\u001b[39;49m\u001b[43mpredict_proba\u001b[49m\u001b[43m(\u001b[49m\u001b[43minput_features\u001b[49m\u001b[43m)\u001b[49m\u001b[38;5;241;43m.\u001b[39;49m\u001b[43mmax\u001b[49m\u001b[43m(\u001b[49m\u001b[43maxis\u001b[49m\u001b[38;5;241;43m=\u001b[39;49m\u001b[38;5;241;43m1\u001b[39;49m\u001b[43m)\u001b[49m\u001b[43m,\u001b[49m\n\u001b[0;32m      5\u001b[0m \u001b[43m    \u001b[49m\u001b[43minput_features\u001b[49m\u001b[43m[\u001b[49m\u001b[38;5;241;43m0\u001b[39;49m\u001b[43m,\u001b[49m\u001b[43m \u001b[49m\u001b[38;5;241;43m-\u001b[39;49m\u001b[38;5;241;43m4\u001b[39;49m\u001b[43m:\u001b[49m\u001b[43m]\u001b[49m\u001b[43m  \u001b[49m\u001b[38;5;66;43;03m# f3, f4, f5, f6\u001b[39;49;00m\n\u001b[0;32m      6\u001b[0m \u001b[43m]\u001b[49m\u001b[43m)\u001b[49m\u001b[38;5;241m.\u001b[39mreshape(\u001b[38;5;241m1\u001b[39m, \u001b[38;5;241m-\u001b[39m\u001b[38;5;241m1\u001b[39m)\n\u001b[0;32m      7\u001b[0m predicted_hybrid_limit \u001b[38;5;241m=\u001b[39m hybrid_model\u001b[38;5;241m.\u001b[39mpredict(input_hybrid_features)[\u001b[38;5;241m0\u001b[39m]\n\u001b[0;32m      9\u001b[0m knn_accuracy, knn_feature_mean, hybrid_r_squared, hybrid_mae, better_model, predicted_hybrid_limit\n",
      "\u001b[1;31mValueError\u001b[0m: setting an array element with a sequence. The requested array has an inhomogeneous shape after 1 dimensions. The detected shape was (3,) + inhomogeneous part."
     ]
    }
   ],
   "source": [
    "# Câu 10: Dự báo giá trị limit bởi Hybrid Model với đầu vào\n",
    "input_hybrid_features = np.array([\n",
    "    knn_model.predict_proba(input_features).max(axis=1),\n",
    "    gnb_model.predict_proba(input_features).max(axis=1),\n",
    "    input_features[0, -4:]  # f3, f4, f5, f6\n",
    "]).reshape(1, -1)\n",
    "predicted_hybrid_limit = hybrid_model.predict(input_hybrid_features)[0]\n",
    "\n",
    "knn_accuracy, knn_feature_mean, hybrid_r_squared, hybrid_mae, better_model, predicted_hybrid_limit"
   ]
  }
 ],
 "metadata": {
  "kernelspec": {
   "display_name": "Python 3",
   "language": "python",
   "name": "python3"
  },
  "language_info": {
   "codemirror_mode": {
    "name": "ipython",
    "version": 3
   },
   "file_extension": ".py",
   "mimetype": "text/x-python",
   "name": "python",
   "nbconvert_exporter": "python",
   "pygments_lexer": "ipython3",
   "version": "3.12.0"
  }
 },
 "nbformat": 4,
 "nbformat_minor": 2
}
