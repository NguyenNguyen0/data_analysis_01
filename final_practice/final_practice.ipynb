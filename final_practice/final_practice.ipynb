{
 "cells": [
  {
   "cell_type": "markdown",
   "id": "5457d435",
   "metadata": {},
   "source": [
    "![Sơ đồ mô hình](mo_hinh_ck.jpg)"
   ]
  },
  {
   "cell_type": "code",
   "execution_count": 1,
   "id": "a9fb2a6f",
   "metadata": {},
   "outputs": [],
   "source": [
    "import pandas as pd\n",
    "from sklearn.model_selection import train_test_split"
   ]
  },
  {
   "cell_type": "markdown",
   "id": "54ac2359",
   "metadata": {},
   "source": [
    "## BƯỚC 1: Chia dữ liệu (Data Splitting)"
   ]
  },
  {
   "cell_type": "code",
   "execution_count": 3,
   "id": "7818be1d",
   "metadata": {},
   "outputs": [
    {
     "data": {
      "text/plain": [
       "((80, 11), (20, 11))"
      ]
     },
     "execution_count": 3,
     "metadata": {},
     "output_type": "execute_result"
    }
   ],
   "source": [
    "# Load the dataset first\n",
    "df = pd.read_csv(\"synthetic_model_training_data.csv\")\n",
    "\n",
    "# Step 1: Chia dữ liệu thành tập huấn luyện và kiểm tra\n",
    "\n",
    "# Split dataset into training (80%) and testing (20%) with random_state=16\n",
    "train_df, test_df = train_test_split(df, test_size=0.2, random_state=16)\n",
    "\n",
    "# Display shape of datasets\n",
    "train_df.shape, test_df.shape\n"
   ]
  },
  {
   "cell_type": "markdown",
   "id": "9dc6ddc2",
   "metadata": {},
   "source": [
    "## Bước 2: Trích xuất đặc trưng từ K-NN (knn_feature)"
   ]
  },
  {
   "cell_type": "code",
   "execution_count": 4,
   "id": "267e60aa",
   "metadata": {},
   "outputs": [
    {
     "data": {
      "text/html": [
       "<div>\n",
       "<style scoped>\n",
       "    .dataframe tbody tr th:only-of-type {\n",
       "        vertical-align: middle;\n",
       "    }\n",
       "\n",
       "    .dataframe tbody tr th {\n",
       "        vertical-align: top;\n",
       "    }\n",
       "\n",
       "    .dataframe thead th {\n",
       "        text-align: right;\n",
       "    }\n",
       "</style>\n",
       "<table border=\"1\" class=\"dataframe\">\n",
       "  <thead>\n",
       "    <tr style=\"text-align: right;\">\n",
       "      <th></th>\n",
       "      <th>knn_feature</th>\n",
       "    </tr>\n",
       "  </thead>\n",
       "  <tbody>\n",
       "    <tr>\n",
       "      <th>96</th>\n",
       "      <td>0.4</td>\n",
       "    </tr>\n",
       "    <tr>\n",
       "      <th>5</th>\n",
       "      <td>0.4</td>\n",
       "    </tr>\n",
       "    <tr>\n",
       "      <th>90</th>\n",
       "      <td>0.4</td>\n",
       "    </tr>\n",
       "    <tr>\n",
       "      <th>53</th>\n",
       "      <td>0.6</td>\n",
       "    </tr>\n",
       "    <tr>\n",
       "      <th>67</th>\n",
       "      <td>0.4</td>\n",
       "    </tr>\n",
       "  </tbody>\n",
       "</table>\n",
       "</div>"
      ],
      "text/plain": [
       "    knn_feature\n",
       "96          0.4\n",
       "5           0.4\n",
       "90          0.4\n",
       "53          0.6\n",
       "67          0.4"
      ]
     },
     "execution_count": 4,
     "metadata": {},
     "output_type": "execute_result"
    }
   ],
   "source": [
    "from sklearn.preprocessing import LabelEncoder\n",
    "from sklearn.neighbors import KNeighborsClassifier\n",
    "\n",
    "# Chuẩn bị dữ liệu cho bước K-NN feature extraction\n",
    "# Input: c1 (categorical), f1, f1x\n",
    "X_knn = train_df[['c1', 'f1', 'f1x']].copy()\n",
    "\n",
    "# Mã hóa biến phân loại c1 thành số\n",
    "le_c1 = LabelEncoder()\n",
    "X_knn['c1_encoded'] = le_c1.fit_transform(X_knn['c1'])\n",
    "X_knn.drop('c1', axis=1, inplace=True)\n",
    "\n",
    "# Đặt nhãn mục tiêu tạm thời để huấn luyện KNN - dùng c1 như mục tiêu để mô phỏng quá trình phân loại\n",
    "y_knn = le_c1.transform(train_df['c1'])\n",
    "\n",
    "# Huấn luyện mô hình KNN với 20 láng giềng\n",
    "knn = KNeighborsClassifier(n_neighbors=20)\n",
    "knn.fit(X_knn, y_knn)\n",
    "\n",
    "# Tính xác suất dự đoán cho từng lớp (A, B, C)\n",
    "knn_probs = knn.predict_proba(X_knn)\n",
    "\n",
    "# Lấy xác suất lớn nhất cho mỗi hàng (maximum predicted probability)\n",
    "knn_feature = knn_probs.max(axis=1)\n",
    "\n",
    "# Lưu lại đặc trưng này vào tập huấn luyện\n",
    "train_df['knn_feature'] = knn_feature\n",
    "\n",
    "# Xem ví dụ vài dòng đầu\n",
    "train_df[['knn_feature']].head()\n"
   ]
  },
  {
   "cell_type": "markdown",
   "id": "961348b7",
   "metadata": {},
   "source": [
    "## Bước 3: Trích xuất đặc trưng từ Gaussian Naive Bayes (gnb_feature)"
   ]
  },
  {
   "cell_type": "code",
   "execution_count": 5,
   "id": "96117606",
   "metadata": {},
   "outputs": [
    {
     "data": {
      "text/html": [
       "<div>\n",
       "<style scoped>\n",
       "    .dataframe tbody tr th:only-of-type {\n",
       "        vertical-align: middle;\n",
       "    }\n",
       "\n",
       "    .dataframe tbody tr th {\n",
       "        vertical-align: top;\n",
       "    }\n",
       "\n",
       "    .dataframe thead th {\n",
       "        text-align: right;\n",
       "    }\n",
       "</style>\n",
       "<table border=\"1\" class=\"dataframe\">\n",
       "  <thead>\n",
       "    <tr style=\"text-align: right;\">\n",
       "      <th></th>\n",
       "      <th>gnb_feature</th>\n",
       "    </tr>\n",
       "  </thead>\n",
       "  <tbody>\n",
       "    <tr>\n",
       "      <th>96</th>\n",
       "      <td>1.0</td>\n",
       "    </tr>\n",
       "    <tr>\n",
       "      <th>5</th>\n",
       "      <td>1.0</td>\n",
       "    </tr>\n",
       "    <tr>\n",
       "      <th>90</th>\n",
       "      <td>1.0</td>\n",
       "    </tr>\n",
       "    <tr>\n",
       "      <th>53</th>\n",
       "      <td>1.0</td>\n",
       "    </tr>\n",
       "    <tr>\n",
       "      <th>67</th>\n",
       "      <td>1.0</td>\n",
       "    </tr>\n",
       "  </tbody>\n",
       "</table>\n",
       "</div>"
      ],
      "text/plain": [
       "    gnb_feature\n",
       "96          1.0\n",
       "5           1.0\n",
       "90          1.0\n",
       "53          1.0\n",
       "67          1.0"
      ]
     },
     "execution_count": 5,
     "metadata": {},
     "output_type": "execute_result"
    }
   ],
   "source": [
    "from sklearn.naive_bayes import GaussianNB\n",
    "\n",
    "# Chuẩn bị dữ liệu cho bước GaussianNB feature extraction\n",
    "# Input: c2 (categorical), f2, f2x\n",
    "X_gnb = train_df[['c2', 'f2', 'f2x']].copy()\n",
    "\n",
    "# Mã hóa c2 thành số\n",
    "le_c2 = LabelEncoder()\n",
    "X_gnb['c2_encoded'] = le_c2.fit_transform(X_gnb['c2'])\n",
    "X_gnb.drop('c2', axis=1, inplace=True)\n",
    "\n",
    "# Đặt nhãn mục tiêu là c2 đã mã hóa\n",
    "y_gnb = le_c2.transform(train_df['c2'])\n",
    "\n",
    "# Huấn luyện mô hình Gaussian Naive Bayes\n",
    "gnb = GaussianNB()\n",
    "gnb.fit(X_gnb, y_gnb)\n",
    "\n",
    "# Tính xác suất dự đoán cho từng lớp (X, Y)\n",
    "gnb_probs = gnb.predict_proba(X_gnb)\n",
    "\n",
    "# Lấy xác suất lớn nhất cho mỗi hàng\n",
    "gnb_feature = gnb_probs.max(axis=1)\n",
    "\n",
    "# Lưu lại đặc trưng này vào tập huấn luyện\n",
    "train_df['gnb_feature'] = gnb_feature\n",
    "\n",
    "# Xem ví dụ vài dòng đầu\n",
    "train_df[['gnb_feature']].head()\n"
   ]
  },
  {
   "cell_type": "markdown",
   "id": "3c3def70",
   "metadata": {},
   "source": [
    "## Bước 4: trích xuất đặc trưng từ f3, f4, f5, f6 và chuẩn hóa"
   ]
  },
  {
   "cell_type": "code",
   "execution_count": 6,
   "id": "17e4b53b",
   "metadata": {},
   "outputs": [],
   "source": [
    "# Tính trung bình\n",
    "train_df['f_mean'] = train_df[['f3', 'f4', 'f5', 'f6']].mean(axis=1)"
   ]
  },
  {
   "cell_type": "code",
   "execution_count": 7,
   "id": "fd6e8aad",
   "metadata": {},
   "outputs": [],
   "source": [
    "# Min-Max Normalization\n",
    "from sklearn.preprocessing import MinMaxScaler\n",
    "\n",
    "scaler = MinMaxScaler()\n",
    "train_df['f_mean'] = scaler.fit_transform(train_df[['f_mean']])"
   ]
  },
  {
   "cell_type": "markdown",
   "id": "7abe7978",
   "metadata": {},
   "source": [
    "## Bước 5: Huấn luyện mô hình hồi quy tuyến tính (MLR)"
   ]
  },
  {
   "cell_type": "code",
   "execution_count": 8,
   "id": "5c1198f1",
   "metadata": {},
   "outputs": [
    {
     "name": "stdout",
     "output_type": "stream",
     "text": [
      "Hệ số hồi quy: [-26.37434363   0.          -0.38717919]\n",
      "Hệ số chệch (intercept): 41.59991090600797\n"
     ]
    }
   ],
   "source": [
    "from sklearn.linear_model import LinearRegression\n",
    "\n",
    "# Tập đặc trưng đầu vào\n",
    "X_train_final = train_df[['knn_feature', 'gnb_feature', 'f_mean']]\n",
    "\n",
    "# Biến mục tiêu\n",
    "y_train_final = train_df['limit']\n",
    "\n",
    "# Khởi tạo và huấn luyện mô hình hồi quy tuyến tính\n",
    "mlr = LinearRegression()\n",
    "mlr.fit(X_train_final, y_train_final)\n",
    "\n",
    "# Xem các hệ số mô hình\n",
    "print(\"Hệ số hồi quy:\", mlr.coef_)\n",
    "print(\"Hệ số chệch (intercept):\", mlr.intercept_)"
   ]
  },
  {
   "cell_type": "markdown",
   "id": "2e7e06e5",
   "metadata": {},
   "source": [
    "## Bước 6: kiểm tra và đánh giá mô hình trên tập test\n"
   ]
  },
  {
   "cell_type": "code",
   "execution_count": 9,
   "id": "e39f74b4",
   "metadata": {},
   "outputs": [],
   "source": [
    "# Encode c1 and apply same transformations\n",
    "X_test_knn = test_df[['c1', 'f1', 'f1x']].copy()\n",
    "X_test_knn['c1_encoded'] = le_c1.transform(X_test_knn['c1'])\n",
    "X_test_knn.drop('c1', axis=1, inplace=True)\n",
    "knn_probs_test = knn.predict_proba(X_test_knn)\n",
    "test_df['knn_feature'] = knn_probs_test.max(axis=1)\n"
   ]
  },
  {
   "cell_type": "code",
   "execution_count": 10,
   "id": "cd23699a",
   "metadata": {},
   "outputs": [],
   "source": [
    "X_test_gnb = test_df[['c2', 'f2', 'f2x']].copy()\n",
    "X_test_gnb['c2_encoded'] = le_c2.transform(X_test_gnb['c2'])\n",
    "X_test_gnb.drop('c2', axis=1, inplace=True)\n",
    "gnb_probs_test = gnb.predict_proba(X_test_gnb)\n",
    "test_df['gnb_feature'] = gnb_probs_test.max(axis=1)\n"
   ]
  },
  {
   "cell_type": "code",
   "execution_count": null,
   "id": "b10bd8b3",
   "metadata": {},
   "outputs": [],
   "source": [
    "test_df['f_mean'] = test_df[['f3', 'f4', 'f5', 'f6']].mean(axis=1)\n",
    "test_df['f_mean'] = scaler.transform(test_df[['f_mean']])"
   ]
  },
  {
   "cell_type": "code",
   "execution_count": 12,
   "id": "a14335aa",
   "metadata": {},
   "outputs": [
    {
     "name": "stdout",
     "output_type": "stream",
     "text": [
      "R-squared: 0.04012469803280749\n",
      "MAE: 3.889630310736519\n"
     ]
    }
   ],
   "source": [
    "from sklearn.metrics import r2_score, mean_absolute_error\n",
    "\n",
    "# Dự đoán\n",
    "X_test_final = test_df[['knn_feature', 'gnb_feature', 'f_mean']]\n",
    "y_test_actual = test_df['limit']\n",
    "y_test_pred = mlr.predict(X_test_final)\n",
    "\n",
    "# Đánh giá\n",
    "r2 = r2_score(y_test_actual, y_test_pred)\n",
    "mae = mean_absolute_error(y_test_actual, y_test_pred)\n",
    "\n",
    "print(\"R-squared:\", r2)\n",
    "print(\"MAE:\", mae)\n"
   ]
  }
 ],
 "metadata": {
  "kernelspec": {
   "display_name": "Python 3",
   "language": "python",
   "name": "python3"
  },
  "language_info": {
   "codemirror_mode": {
    "name": "ipython",
    "version": 3
   },
   "file_extension": ".py",
   "mimetype": "text/x-python",
   "name": "python",
   "nbconvert_exporter": "python",
   "pygments_lexer": "ipython3",
   "version": "3.12.0"
  }
 },
 "nbformat": 4,
 "nbformat_minor": 5
}
