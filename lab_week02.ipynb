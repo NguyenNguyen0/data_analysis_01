{
 "cells": [
  {
   "cell_type": "markdown",
   "metadata": {},
   "source": [
    "# **Lab**: Data Wrangling (The process of converting raw data into a usable form) \n",
    "## **Nội dung**: Tích hợp dữ liệu từ nhiều nguồn bằng Pandas \n",
    "## **Mục tiêu**: Xây dựng bảng dữ liệu (data frame) dựa trên quá trình trộn dữ liệu từ nhiều tập tin. \n",
    "## **Bài toán**: Hãy phân tích thói quen sử dụng điện thoại di động dựa trên các nhãn hàng"
   ]
  },
  {
   "cell_type": "markdown",
   "metadata": {},
   "source": [
    "- Dữ liệu đầu vào: \n",
    "    - Bảng thietbi: cho biết danh sách các thiết bị \n",
    "    - Bảng nguoidung_thietbi: cho biết danh sách người dùng đang sở hữu thiết bị \n",
    "    - Bảng nguoidung_sudung: cho biết danh sách quá trình người dùng dùng thiết bị \n",
    "\n",
    "- Yêu cầu dữ liệu đầu ra:  \n",
    "    - Hãy tổng hợp dữ liệu thành bảng dữ liệu mới bao gồm các cột sau để phục vụ phân   tích dữ liệu \n",
    "    - outgoing_mins_per_month,outgoing_sms_per_month,monthly_mb,use_id,platform,device,Brand\n",
    "ing,Model \n",
    "\n",
    "***Gợi ý**: Sinh viên suy nghĩ về sơ đồ quan hệ của các tập tin dữ liệu (xem mỗi tập tin là một bảng \n",
    "dữ liệu). Sau đó, sinh viên bắt đầu xử lý dữ liệu như hướng dẫn bên dưới"
   ]
  },
  {
   "cell_type": "code",
   "execution_count": 82,
   "metadata": {},
   "outputs": [],
   "source": [
    "import pandas as pd"
   ]
  },
  {
   "cell_type": "markdown",
   "metadata": {},
   "source": [
    "1. Đọc dữ liệu lên dataframe "
   ]
  },
  {
   "cell_type": "code",
   "execution_count": 83,
   "metadata": {},
   "outputs": [],
   "source": [
    "thiet_bi = pd.read_csv('week02/thietbi.csv')\n",
    "nguoidung_thietbi = pd.read_csv('week02/nguoidung_thietbi.csv')\n",
    "nguoidung_sudung = pd.read_csv('week02/nguoidung_sudung.csv')"
   ]
  },
  {
   "cell_type": "code",
   "execution_count": 84,
   "metadata": {},
   "outputs": [
    {
     "data": {
      "text/html": [
       "<div>\n",
       "<style scoped>\n",
       "    .dataframe tbody tr th:only-of-type {\n",
       "        vertical-align: middle;\n",
       "    }\n",
       "\n",
       "    .dataframe tbody tr th {\n",
       "        vertical-align: top;\n",
       "    }\n",
       "\n",
       "    .dataframe thead th {\n",
       "        text-align: right;\n",
       "    }\n",
       "</style>\n",
       "<table border=\"1\" class=\"dataframe\">\n",
       "  <thead>\n",
       "    <tr style=\"text-align: right;\">\n",
       "      <th></th>\n",
       "      <th>Retail Branding</th>\n",
       "      <th>Marketing Name</th>\n",
       "      <th>Device</th>\n",
       "      <th>Model</th>\n",
       "    </tr>\n",
       "  </thead>\n",
       "  <tbody>\n",
       "    <tr>\n",
       "      <th>0</th>\n",
       "      <td>NaN</td>\n",
       "      <td>NaN</td>\n",
       "      <td>AD681H</td>\n",
       "      <td>Smartfren Andromax AD681H</td>\n",
       "    </tr>\n",
       "    <tr>\n",
       "      <th>1</th>\n",
       "      <td>NaN</td>\n",
       "      <td>NaN</td>\n",
       "      <td>FJL21</td>\n",
       "      <td>FJL21</td>\n",
       "    </tr>\n",
       "    <tr>\n",
       "      <th>2</th>\n",
       "      <td>NaN</td>\n",
       "      <td>NaN</td>\n",
       "      <td>T31</td>\n",
       "      <td>Panasonic T31</td>\n",
       "    </tr>\n",
       "    <tr>\n",
       "      <th>3</th>\n",
       "      <td>NaN</td>\n",
       "      <td>NaN</td>\n",
       "      <td>hws7721g</td>\n",
       "      <td>MediaPad 7 Youth 2</td>\n",
       "    </tr>\n",
       "    <tr>\n",
       "      <th>4</th>\n",
       "      <td>3Q</td>\n",
       "      <td>OC1020A</td>\n",
       "      <td>OC1020A</td>\n",
       "      <td>OC1020A</td>\n",
       "    </tr>\n",
       "  </tbody>\n",
       "</table>\n",
       "</div>"
      ],
      "text/plain": [
       "  Retail Branding Marketing Name    Device                      Model\n",
       "0             NaN            NaN    AD681H  Smartfren Andromax AD681H\n",
       "1             NaN            NaN     FJL21                      FJL21\n",
       "2             NaN            NaN       T31              Panasonic T31\n",
       "3             NaN            NaN  hws7721g         MediaPad 7 Youth 2\n",
       "4              3Q        OC1020A   OC1020A                    OC1020A"
      ]
     },
     "execution_count": 84,
     "metadata": {},
     "output_type": "execute_result"
    }
   ],
   "source": [
    "thiet_bi.head()"
   ]
  },
  {
   "cell_type": "code",
   "execution_count": 85,
   "metadata": {},
   "outputs": [
    {
     "data": {
      "text/html": [
       "<div>\n",
       "<style scoped>\n",
       "    .dataframe tbody tr th:only-of-type {\n",
       "        vertical-align: middle;\n",
       "    }\n",
       "\n",
       "    .dataframe tbody tr th {\n",
       "        vertical-align: top;\n",
       "    }\n",
       "\n",
       "    .dataframe thead th {\n",
       "        text-align: right;\n",
       "    }\n",
       "</style>\n",
       "<table border=\"1\" class=\"dataframe\">\n",
       "  <thead>\n",
       "    <tr style=\"text-align: right;\">\n",
       "      <th></th>\n",
       "      <th>use_id</th>\n",
       "      <th>user_id</th>\n",
       "      <th>platform</th>\n",
       "      <th>platform_version</th>\n",
       "      <th>device</th>\n",
       "      <th>use_type_id</th>\n",
       "    </tr>\n",
       "  </thead>\n",
       "  <tbody>\n",
       "    <tr>\n",
       "      <th>0</th>\n",
       "      <td>22782</td>\n",
       "      <td>26980</td>\n",
       "      <td>ios</td>\n",
       "      <td>10.2</td>\n",
       "      <td>iPhone7,2</td>\n",
       "      <td>2</td>\n",
       "    </tr>\n",
       "    <tr>\n",
       "      <th>1</th>\n",
       "      <td>22783</td>\n",
       "      <td>29628</td>\n",
       "      <td>android</td>\n",
       "      <td>6.0</td>\n",
       "      <td>Nexus 5</td>\n",
       "      <td>3</td>\n",
       "    </tr>\n",
       "    <tr>\n",
       "      <th>2</th>\n",
       "      <td>22784</td>\n",
       "      <td>28473</td>\n",
       "      <td>android</td>\n",
       "      <td>5.1</td>\n",
       "      <td>SM-G903F</td>\n",
       "      <td>1</td>\n",
       "    </tr>\n",
       "    <tr>\n",
       "      <th>3</th>\n",
       "      <td>22785</td>\n",
       "      <td>15200</td>\n",
       "      <td>ios</td>\n",
       "      <td>10.2</td>\n",
       "      <td>iPhone7,2</td>\n",
       "      <td>3</td>\n",
       "    </tr>\n",
       "    <tr>\n",
       "      <th>4</th>\n",
       "      <td>22786</td>\n",
       "      <td>28239</td>\n",
       "      <td>android</td>\n",
       "      <td>6.0</td>\n",
       "      <td>ONE E1003</td>\n",
       "      <td>1</td>\n",
       "    </tr>\n",
       "  </tbody>\n",
       "</table>\n",
       "</div>"
      ],
      "text/plain": [
       "   use_id  user_id platform  platform_version     device  use_type_id\n",
       "0   22782    26980      ios              10.2  iPhone7,2            2\n",
       "1   22783    29628  android               6.0    Nexus 5            3\n",
       "2   22784    28473  android               5.1   SM-G903F            1\n",
       "3   22785    15200      ios              10.2  iPhone7,2            3\n",
       "4   22786    28239  android               6.0  ONE E1003            1"
      ]
     },
     "execution_count": 85,
     "metadata": {},
     "output_type": "execute_result"
    }
   ],
   "source": [
    "nguoidung_thietbi.head()"
   ]
  },
  {
   "cell_type": "code",
   "execution_count": 86,
   "metadata": {},
   "outputs": [
    {
     "data": {
      "text/html": [
       "<div>\n",
       "<style scoped>\n",
       "    .dataframe tbody tr th:only-of-type {\n",
       "        vertical-align: middle;\n",
       "    }\n",
       "\n",
       "    .dataframe tbody tr th {\n",
       "        vertical-align: top;\n",
       "    }\n",
       "\n",
       "    .dataframe thead th {\n",
       "        text-align: right;\n",
       "    }\n",
       "</style>\n",
       "<table border=\"1\" class=\"dataframe\">\n",
       "  <thead>\n",
       "    <tr style=\"text-align: right;\">\n",
       "      <th></th>\n",
       "      <th>outgoing_mins_per_month</th>\n",
       "      <th>outgoing_sms_per_month</th>\n",
       "      <th>monthly_mb</th>\n",
       "      <th>use_id</th>\n",
       "    </tr>\n",
       "  </thead>\n",
       "  <tbody>\n",
       "    <tr>\n",
       "      <th>0</th>\n",
       "      <td>21.97</td>\n",
       "      <td>4.82</td>\n",
       "      <td>1557.33</td>\n",
       "      <td>22787</td>\n",
       "    </tr>\n",
       "    <tr>\n",
       "      <th>1</th>\n",
       "      <td>1710.08</td>\n",
       "      <td>136.88</td>\n",
       "      <td>7267.55</td>\n",
       "      <td>22788</td>\n",
       "    </tr>\n",
       "    <tr>\n",
       "      <th>2</th>\n",
       "      <td>1710.08</td>\n",
       "      <td>136.88</td>\n",
       "      <td>7267.55</td>\n",
       "      <td>22789</td>\n",
       "    </tr>\n",
       "    <tr>\n",
       "      <th>3</th>\n",
       "      <td>94.46</td>\n",
       "      <td>35.17</td>\n",
       "      <td>519.12</td>\n",
       "      <td>22790</td>\n",
       "    </tr>\n",
       "    <tr>\n",
       "      <th>4</th>\n",
       "      <td>71.59</td>\n",
       "      <td>79.26</td>\n",
       "      <td>1557.33</td>\n",
       "      <td>22792</td>\n",
       "    </tr>\n",
       "  </tbody>\n",
       "</table>\n",
       "</div>"
      ],
      "text/plain": [
       "   outgoing_mins_per_month  outgoing_sms_per_month  monthly_mb  use_id\n",
       "0                    21.97                    4.82     1557.33   22787\n",
       "1                  1710.08                  136.88     7267.55   22788\n",
       "2                  1710.08                  136.88     7267.55   22789\n",
       "3                    94.46                   35.17      519.12   22790\n",
       "4                    71.59                   79.26     1557.33   22792"
      ]
     },
     "execution_count": 86,
     "metadata": {},
     "output_type": "execute_result"
    }
   ],
   "source": [
    "nguoidung_sudung.head()"
   ]
  },
  {
   "cell_type": "markdown",
   "metadata": {},
   "source": [
    "2. Vẽ mô hình quan hệ (ERD) từ bảng dữ liệu trên"
   ]
  },
  {
   "cell_type": "markdown",
   "metadata": {},
   "source": [
    "3. Đổi tên các cột dữ liệu cần thiết"
   ]
  },
  {
   "cell_type": "code",
   "execution_count": 87,
   "metadata": {},
   "outputs": [],
   "source": [
    "thiet_bi.rename(\n",
    "    columns={\"Retail Branding\": \"Branding\", \"Marketing Name\": \"MarketingName\"},\n",
    "    inplace=True,\n",
    ")"
   ]
  },
  {
   "cell_type": "markdown",
   "metadata": {},
   "source": [
    "4. Trộn bảng nguoidung_sudung và nguoidung_thietbi thông qua inner join để được bảng \n",
    "kết quả có các cột sau: [outgoing_mins_per_month, outgoing_sms_per_month, \n",
    "monthly_mb, use_id, platform, device]"
   ]
  },
  {
   "cell_type": "code",
   "execution_count": 88,
   "metadata": {},
   "outputs": [],
   "source": [
    "dfKetQua = pd.merge(\n",
    "    nguoidung_sudung, nguoidung_thietbi[[\"use_id\", \"platform\", \"device\"]], on=\"use_id\"\n",
    ")"
   ]
  },
  {
   "cell_type": "code",
   "execution_count": 89,
   "metadata": {},
   "outputs": [
    {
     "data": {
      "text/html": [
       "<div>\n",
       "<style scoped>\n",
       "    .dataframe tbody tr th:only-of-type {\n",
       "        vertical-align: middle;\n",
       "    }\n",
       "\n",
       "    .dataframe tbody tr th {\n",
       "        vertical-align: top;\n",
       "    }\n",
       "\n",
       "    .dataframe thead th {\n",
       "        text-align: right;\n",
       "    }\n",
       "</style>\n",
       "<table border=\"1\" class=\"dataframe\">\n",
       "  <thead>\n",
       "    <tr style=\"text-align: right;\">\n",
       "      <th></th>\n",
       "      <th>outgoing_mins_per_month</th>\n",
       "      <th>outgoing_sms_per_month</th>\n",
       "      <th>monthly_mb</th>\n",
       "      <th>use_id</th>\n",
       "      <th>platform</th>\n",
       "      <th>device</th>\n",
       "    </tr>\n",
       "  </thead>\n",
       "  <tbody>\n",
       "    <tr>\n",
       "      <th>0</th>\n",
       "      <td>21.97</td>\n",
       "      <td>4.82</td>\n",
       "      <td>1557.33</td>\n",
       "      <td>22787</td>\n",
       "      <td>android</td>\n",
       "      <td>GT-I9505</td>\n",
       "    </tr>\n",
       "    <tr>\n",
       "      <th>1</th>\n",
       "      <td>1710.08</td>\n",
       "      <td>136.88</td>\n",
       "      <td>7267.55</td>\n",
       "      <td>22788</td>\n",
       "      <td>android</td>\n",
       "      <td>SM-G930F</td>\n",
       "    </tr>\n",
       "    <tr>\n",
       "      <th>2</th>\n",
       "      <td>1710.08</td>\n",
       "      <td>136.88</td>\n",
       "      <td>7267.55</td>\n",
       "      <td>22789</td>\n",
       "      <td>android</td>\n",
       "      <td>SM-G930F</td>\n",
       "    </tr>\n",
       "    <tr>\n",
       "      <th>3</th>\n",
       "      <td>94.46</td>\n",
       "      <td>35.17</td>\n",
       "      <td>519.12</td>\n",
       "      <td>22790</td>\n",
       "      <td>android</td>\n",
       "      <td>D2303</td>\n",
       "    </tr>\n",
       "    <tr>\n",
       "      <th>4</th>\n",
       "      <td>71.59</td>\n",
       "      <td>79.26</td>\n",
       "      <td>1557.33</td>\n",
       "      <td>22792</td>\n",
       "      <td>android</td>\n",
       "      <td>SM-G361F</td>\n",
       "    </tr>\n",
       "  </tbody>\n",
       "</table>\n",
       "</div>"
      ],
      "text/plain": [
       "   outgoing_mins_per_month  outgoing_sms_per_month  monthly_mb  use_id  \\\n",
       "0                    21.97                    4.82     1557.33   22787   \n",
       "1                  1710.08                  136.88     7267.55   22788   \n",
       "2                  1710.08                  136.88     7267.55   22789   \n",
       "3                    94.46                   35.17      519.12   22790   \n",
       "4                    71.59                   79.26     1557.33   22792   \n",
       "\n",
       "  platform    device  \n",
       "0  android  GT-I9505  \n",
       "1  android  SM-G930F  \n",
       "2  android  SM-G930F  \n",
       "3  android     D2303  \n",
       "4  android  SM-G361F  "
      ]
     },
     "execution_count": 89,
     "metadata": {},
     "output_type": "execute_result"
    }
   ],
   "source": [
    "dfKetQua.head()"
   ]
  },
  {
   "cell_type": "markdown",
   "metadata": {},
   "source": [
    "Hoặc dùng left-join tùy theo nhu cầu"
   ]
  },
  {
   "cell_type": "code",
   "execution_count": 90,
   "metadata": {},
   "outputs": [],
   "source": [
    "# left-join\n",
    "dfKetQua = pd.merge(\n",
    "    nguoidung_sudung, nguoidung_thietbi[[\"use_id\", \"platform\", \"device\"]], on=\"use_id\", how=\"left\"\n",
    ")"
   ]
  },
  {
   "cell_type": "code",
   "execution_count": 91,
   "metadata": {},
   "outputs": [
    {
     "data": {
      "text/html": [
       "<div>\n",
       "<style scoped>\n",
       "    .dataframe tbody tr th:only-of-type {\n",
       "        vertical-align: middle;\n",
       "    }\n",
       "\n",
       "    .dataframe tbody tr th {\n",
       "        vertical-align: top;\n",
       "    }\n",
       "\n",
       "    .dataframe thead th {\n",
       "        text-align: right;\n",
       "    }\n",
       "</style>\n",
       "<table border=\"1\" class=\"dataframe\">\n",
       "  <thead>\n",
       "    <tr style=\"text-align: right;\">\n",
       "      <th></th>\n",
       "      <th>outgoing_mins_per_month</th>\n",
       "      <th>outgoing_sms_per_month</th>\n",
       "      <th>monthly_mb</th>\n",
       "      <th>use_id</th>\n",
       "      <th>platform</th>\n",
       "      <th>device</th>\n",
       "    </tr>\n",
       "  </thead>\n",
       "  <tbody>\n",
       "    <tr>\n",
       "      <th>0</th>\n",
       "      <td>21.97</td>\n",
       "      <td>4.82</td>\n",
       "      <td>1557.33</td>\n",
       "      <td>22787</td>\n",
       "      <td>android</td>\n",
       "      <td>GT-I9505</td>\n",
       "    </tr>\n",
       "    <tr>\n",
       "      <th>1</th>\n",
       "      <td>1710.08</td>\n",
       "      <td>136.88</td>\n",
       "      <td>7267.55</td>\n",
       "      <td>22788</td>\n",
       "      <td>android</td>\n",
       "      <td>SM-G930F</td>\n",
       "    </tr>\n",
       "    <tr>\n",
       "      <th>2</th>\n",
       "      <td>1710.08</td>\n",
       "      <td>136.88</td>\n",
       "      <td>7267.55</td>\n",
       "      <td>22789</td>\n",
       "      <td>android</td>\n",
       "      <td>SM-G930F</td>\n",
       "    </tr>\n",
       "    <tr>\n",
       "      <th>3</th>\n",
       "      <td>94.46</td>\n",
       "      <td>35.17</td>\n",
       "      <td>519.12</td>\n",
       "      <td>22790</td>\n",
       "      <td>android</td>\n",
       "      <td>D2303</td>\n",
       "    </tr>\n",
       "    <tr>\n",
       "      <th>4</th>\n",
       "      <td>71.59</td>\n",
       "      <td>79.26</td>\n",
       "      <td>1557.33</td>\n",
       "      <td>22792</td>\n",
       "      <td>android</td>\n",
       "      <td>SM-G361F</td>\n",
       "    </tr>\n",
       "  </tbody>\n",
       "</table>\n",
       "</div>"
      ],
      "text/plain": [
       "   outgoing_mins_per_month  outgoing_sms_per_month  monthly_mb  use_id  \\\n",
       "0                    21.97                    4.82     1557.33   22787   \n",
       "1                  1710.08                  136.88     7267.55   22788   \n",
       "2                  1710.08                  136.88     7267.55   22789   \n",
       "3                    94.46                   35.17      519.12   22790   \n",
       "4                    71.59                   79.26     1557.33   22792   \n",
       "\n",
       "  platform    device  \n",
       "0  android  GT-I9505  \n",
       "1  android  SM-G930F  \n",
       "2  android  SM-G930F  \n",
       "3  android     D2303  \n",
       "4  android  SM-G361F  "
      ]
     },
     "execution_count": 91,
     "metadata": {},
     "output_type": "execute_result"
    }
   ],
   "source": [
    "dfKetQua.head()"
   ]
  },
  {
   "cell_type": "markdown",
   "metadata": {},
   "source": [
    "5. Tiếp tục inner-join bảng thietbi và dfKetQua để có thêm 2 cột Model và Branding trong bảng kết quả cuối cùng. Lưu ý ở đây khóa liên kết sẽ khác tên"
   ]
  },
  {
   "cell_type": "code",
   "execution_count": 92,
   "metadata": {},
   "outputs": [],
   "source": [
    "# inner-join\n",
    "dfKetQua = pd.merge(\n",
    "    dfKetQua, thiet_bi[[\"Branding\", \"Model\"]], left_on=\"device\", right_on=\"Model\"\n",
    ")\n",
    "\n",
    "# left-join\n",
    "# dfKetQua = pd.merge(\n",
    "#     dfKetQua,\n",
    "#     thiet_bi[[\"Branding\", \"Model\"]],\n",
    "#     left_on=\"device\",\n",
    "#     right_on=\"Model\",\n",
    "#     how=\"left\",\n",
    "# )"
   ]
  },
  {
   "cell_type": "code",
   "execution_count": 93,
   "metadata": {},
   "outputs": [
    {
     "data": {
      "text/html": [
       "<div>\n",
       "<style scoped>\n",
       "    .dataframe tbody tr th:only-of-type {\n",
       "        vertical-align: middle;\n",
       "    }\n",
       "\n",
       "    .dataframe tbody tr th {\n",
       "        vertical-align: top;\n",
       "    }\n",
       "\n",
       "    .dataframe thead th {\n",
       "        text-align: right;\n",
       "    }\n",
       "</style>\n",
       "<table border=\"1\" class=\"dataframe\">\n",
       "  <thead>\n",
       "    <tr style=\"text-align: right;\">\n",
       "      <th></th>\n",
       "      <th>outgoing_mins_per_month</th>\n",
       "      <th>outgoing_sms_per_month</th>\n",
       "      <th>monthly_mb</th>\n",
       "      <th>use_id</th>\n",
       "      <th>platform</th>\n",
       "      <th>device</th>\n",
       "      <th>Branding</th>\n",
       "      <th>Model</th>\n",
       "    </tr>\n",
       "  </thead>\n",
       "  <tbody>\n",
       "    <tr>\n",
       "      <th>0</th>\n",
       "      <td>21.97</td>\n",
       "      <td>4.82</td>\n",
       "      <td>1557.33</td>\n",
       "      <td>22787</td>\n",
       "      <td>android</td>\n",
       "      <td>GT-I9505</td>\n",
       "      <td>Samsung</td>\n",
       "      <td>GT-I9505</td>\n",
       "    </tr>\n",
       "    <tr>\n",
       "      <th>1</th>\n",
       "      <td>1710.08</td>\n",
       "      <td>136.88</td>\n",
       "      <td>7267.55</td>\n",
       "      <td>22788</td>\n",
       "      <td>android</td>\n",
       "      <td>SM-G930F</td>\n",
       "      <td>Samsung</td>\n",
       "      <td>SM-G930F</td>\n",
       "    </tr>\n",
       "    <tr>\n",
       "      <th>2</th>\n",
       "      <td>1710.08</td>\n",
       "      <td>136.88</td>\n",
       "      <td>7267.55</td>\n",
       "      <td>22789</td>\n",
       "      <td>android</td>\n",
       "      <td>SM-G930F</td>\n",
       "      <td>Samsung</td>\n",
       "      <td>SM-G930F</td>\n",
       "    </tr>\n",
       "    <tr>\n",
       "      <th>3</th>\n",
       "      <td>94.46</td>\n",
       "      <td>35.17</td>\n",
       "      <td>519.12</td>\n",
       "      <td>22790</td>\n",
       "      <td>android</td>\n",
       "      <td>D2303</td>\n",
       "      <td>Sony</td>\n",
       "      <td>D2303</td>\n",
       "    </tr>\n",
       "    <tr>\n",
       "      <th>4</th>\n",
       "      <td>71.59</td>\n",
       "      <td>79.26</td>\n",
       "      <td>1557.33</td>\n",
       "      <td>22792</td>\n",
       "      <td>android</td>\n",
       "      <td>SM-G361F</td>\n",
       "      <td>Samsung</td>\n",
       "      <td>SM-G361F</td>\n",
       "    </tr>\n",
       "  </tbody>\n",
       "</table>\n",
       "</div>"
      ],
      "text/plain": [
       "   outgoing_mins_per_month  outgoing_sms_per_month  monthly_mb  use_id  \\\n",
       "0                    21.97                    4.82     1557.33   22787   \n",
       "1                  1710.08                  136.88     7267.55   22788   \n",
       "2                  1710.08                  136.88     7267.55   22789   \n",
       "3                    94.46                   35.17      519.12   22790   \n",
       "4                    71.59                   79.26     1557.33   22792   \n",
       "\n",
       "  platform    device Branding     Model  \n",
       "0  android  GT-I9505  Samsung  GT-I9505  \n",
       "1  android  SM-G930F  Samsung  SM-G930F  \n",
       "2  android  SM-G930F  Samsung  SM-G930F  \n",
       "3  android     D2303     Sony     D2303  \n",
       "4  android  SM-G361F  Samsung  SM-G361F  "
      ]
     },
     "execution_count": 93,
     "metadata": {},
     "output_type": "execute_result"
    }
   ],
   "source": [
    "dfKetQua.head()"
   ]
  },
  {
   "cell_type": "markdown",
   "metadata": {},
   "source": [
    "6. Hãy liệt kê 5 dòng đầu tiên các mẫu thiết bị (cột device) bắt đầu bằng GT"
   ]
  },
  {
   "cell_type": "code",
   "execution_count": 94,
   "metadata": {},
   "outputs": [
    {
     "data": {
      "text/html": [
       "<div>\n",
       "<style scoped>\n",
       "    .dataframe tbody tr th:only-of-type {\n",
       "        vertical-align: middle;\n",
       "    }\n",
       "\n",
       "    .dataframe tbody tr th {\n",
       "        vertical-align: top;\n",
       "    }\n",
       "\n",
       "    .dataframe thead th {\n",
       "        text-align: right;\n",
       "    }\n",
       "</style>\n",
       "<table border=\"1\" class=\"dataframe\">\n",
       "  <thead>\n",
       "    <tr style=\"text-align: right;\">\n",
       "      <th></th>\n",
       "      <th>outgoing_mins_per_month</th>\n",
       "      <th>outgoing_sms_per_month</th>\n",
       "      <th>monthly_mb</th>\n",
       "      <th>use_id</th>\n",
       "      <th>platform</th>\n",
       "      <th>device</th>\n",
       "      <th>Branding</th>\n",
       "      <th>Model</th>\n",
       "    </tr>\n",
       "  </thead>\n",
       "  <tbody>\n",
       "    <tr>\n",
       "      <th>0</th>\n",
       "      <td>21.97</td>\n",
       "      <td>4.82</td>\n",
       "      <td>1557.33</td>\n",
       "      <td>22787</td>\n",
       "      <td>android</td>\n",
       "      <td>GT-I9505</td>\n",
       "      <td>Samsung</td>\n",
       "      <td>GT-I9505</td>\n",
       "    </tr>\n",
       "    <tr>\n",
       "      <th>8</th>\n",
       "      <td>69.80</td>\n",
       "      <td>14.70</td>\n",
       "      <td>25955.55</td>\n",
       "      <td>22801</td>\n",
       "      <td>android</td>\n",
       "      <td>GT-I9505</td>\n",
       "      <td>Samsung</td>\n",
       "      <td>GT-I9505</td>\n",
       "    </tr>\n",
       "    <tr>\n",
       "      <th>10</th>\n",
       "      <td>189.10</td>\n",
       "      <td>24.08</td>\n",
       "      <td>519.12</td>\n",
       "      <td>22805</td>\n",
       "      <td>android</td>\n",
       "      <td>GT-I9195</td>\n",
       "      <td>Samsung</td>\n",
       "      <td>GT-I9195</td>\n",
       "    </tr>\n",
       "    <tr>\n",
       "      <th>29</th>\n",
       "      <td>85.97</td>\n",
       "      <td>26.94</td>\n",
       "      <td>407.01</td>\n",
       "      <td>22831</td>\n",
       "      <td>android</td>\n",
       "      <td>GT-I8190N</td>\n",
       "      <td>Samsung</td>\n",
       "      <td>GT-I8190N</td>\n",
       "    </tr>\n",
       "    <tr>\n",
       "      <th>52</th>\n",
       "      <td>29.54</td>\n",
       "      <td>34.78</td>\n",
       "      <td>33.79</td>\n",
       "      <td>22871</td>\n",
       "      <td>android</td>\n",
       "      <td>GT-I9300</td>\n",
       "      <td>Samsung</td>\n",
       "      <td>GT-I9300</td>\n",
       "    </tr>\n",
       "  </tbody>\n",
       "</table>\n",
       "</div>"
      ],
      "text/plain": [
       "    outgoing_mins_per_month  outgoing_sms_per_month  monthly_mb  use_id  \\\n",
       "0                     21.97                    4.82     1557.33   22787   \n",
       "8                     69.80                   14.70    25955.55   22801   \n",
       "10                   189.10                   24.08      519.12   22805   \n",
       "29                    85.97                   26.94      407.01   22831   \n",
       "52                    29.54                   34.78       33.79   22871   \n",
       "\n",
       "   platform     device Branding      Model  \n",
       "0   android   GT-I9505  Samsung   GT-I9505  \n",
       "8   android   GT-I9505  Samsung   GT-I9505  \n",
       "10  android   GT-I9195  Samsung   GT-I9195  \n",
       "29  android  GT-I8190N  Samsung  GT-I8190N  \n",
       "52  android   GT-I9300  Samsung   GT-I9300  "
      ]
     },
     "execution_count": 94,
     "metadata": {},
     "output_type": "execute_result"
    }
   ],
   "source": [
    "dfKetQua[dfKetQua['device'].str.startswith('GT')].head()"
   ]
  },
  {
   "cell_type": "markdown",
   "metadata": {},
   "source": [
    "7. Hãy thống kê trung bình số phút hàng tháng, trung bình sms và trung bình data, số lượng \n",
    "sử dụng của các nhãn hàng"
   ]
  },
  {
   "cell_type": "code",
   "execution_count": 95,
   "metadata": {},
   "outputs": [
    {
     "data": {
      "text/html": [
       "<div>\n",
       "<style scoped>\n",
       "    .dataframe tbody tr th:only-of-type {\n",
       "        vertical-align: middle;\n",
       "    }\n",
       "\n",
       "    .dataframe tbody tr th {\n",
       "        vertical-align: top;\n",
       "    }\n",
       "\n",
       "    .dataframe thead th {\n",
       "        text-align: right;\n",
       "    }\n",
       "</style>\n",
       "<table border=\"1\" class=\"dataframe\">\n",
       "  <thead>\n",
       "    <tr style=\"text-align: right;\">\n",
       "      <th></th>\n",
       "      <th>outgoing_mins_per_month</th>\n",
       "      <th>outgoing_sms_per_month</th>\n",
       "      <th>monthly_mb</th>\n",
       "      <th>use_id</th>\n",
       "    </tr>\n",
       "    <tr>\n",
       "      <th>Branding</th>\n",
       "      <th></th>\n",
       "      <th></th>\n",
       "      <th></th>\n",
       "      <th></th>\n",
       "    </tr>\n",
       "  </thead>\n",
       "  <tbody>\n",
       "    <tr>\n",
       "      <th>HTC</th>\n",
       "      <td>299.842955</td>\n",
       "      <td>93.059318</td>\n",
       "      <td>5144.077955</td>\n",
       "      <td>44</td>\n",
       "    </tr>\n",
       "    <tr>\n",
       "      <th>Huawei</th>\n",
       "      <td>81.526667</td>\n",
       "      <td>9.500000</td>\n",
       "      <td>1561.226667</td>\n",
       "      <td>3</td>\n",
       "    </tr>\n",
       "    <tr>\n",
       "      <th>LGE</th>\n",
       "      <td>111.530000</td>\n",
       "      <td>12.760000</td>\n",
       "      <td>1557.330000</td>\n",
       "      <td>2</td>\n",
       "    </tr>\n",
       "    <tr>\n",
       "      <th>Lava</th>\n",
       "      <td>60.650000</td>\n",
       "      <td>261.900000</td>\n",
       "      <td>12458.670000</td>\n",
       "      <td>2</td>\n",
       "    </tr>\n",
       "    <tr>\n",
       "      <th>Lenovo</th>\n",
       "      <td>215.920000</td>\n",
       "      <td>12.930000</td>\n",
       "      <td>1557.330000</td>\n",
       "      <td>2</td>\n",
       "    </tr>\n",
       "    <tr>\n",
       "      <th>Motorola</th>\n",
       "      <td>95.127500</td>\n",
       "      <td>65.666250</td>\n",
       "      <td>3946.500000</td>\n",
       "      <td>16</td>\n",
       "    </tr>\n",
       "    <tr>\n",
       "      <th>OnePlus</th>\n",
       "      <td>354.855000</td>\n",
       "      <td>48.330000</td>\n",
       "      <td>6575.410000</td>\n",
       "      <td>6</td>\n",
       "    </tr>\n",
       "    <tr>\n",
       "      <th>Samsung</th>\n",
       "      <td>191.010093</td>\n",
       "      <td>92.390463</td>\n",
       "      <td>4017.318889</td>\n",
       "      <td>108</td>\n",
       "    </tr>\n",
       "    <tr>\n",
       "      <th>Sony</th>\n",
       "      <td>177.315625</td>\n",
       "      <td>40.176250</td>\n",
       "      <td>3212.000625</td>\n",
       "      <td>16</td>\n",
       "    </tr>\n",
       "    <tr>\n",
       "      <th>Vodafone</th>\n",
       "      <td>42.750000</td>\n",
       "      <td>46.830000</td>\n",
       "      <td>5191.120000</td>\n",
       "      <td>1</td>\n",
       "    </tr>\n",
       "    <tr>\n",
       "      <th>ZTE</th>\n",
       "      <td>42.750000</td>\n",
       "      <td>46.830000</td>\n",
       "      <td>5191.120000</td>\n",
       "      <td>1</td>\n",
       "    </tr>\n",
       "  </tbody>\n",
       "</table>\n",
       "</div>"
      ],
      "text/plain": [
       "          outgoing_mins_per_month  outgoing_sms_per_month    monthly_mb  \\\n",
       "Branding                                                                  \n",
       "HTC                    299.842955               93.059318   5144.077955   \n",
       "Huawei                  81.526667                9.500000   1561.226667   \n",
       "LGE                    111.530000               12.760000   1557.330000   \n",
       "Lava                    60.650000              261.900000  12458.670000   \n",
       "Lenovo                 215.920000               12.930000   1557.330000   \n",
       "Motorola                95.127500               65.666250   3946.500000   \n",
       "OnePlus                354.855000               48.330000   6575.410000   \n",
       "Samsung                191.010093               92.390463   4017.318889   \n",
       "Sony                   177.315625               40.176250   3212.000625   \n",
       "Vodafone                42.750000               46.830000   5191.120000   \n",
       "ZTE                     42.750000               46.830000   5191.120000   \n",
       "\n",
       "          use_id  \n",
       "Branding          \n",
       "HTC           44  \n",
       "Huawei         3  \n",
       "LGE            2  \n",
       "Lava           2  \n",
       "Lenovo         2  \n",
       "Motorola      16  \n",
       "OnePlus        6  \n",
       "Samsung      108  \n",
       "Sony          16  \n",
       "Vodafone       1  \n",
       "ZTE            1  "
      ]
     },
     "execution_count": 95,
     "metadata": {},
     "output_type": "execute_result"
    }
   ],
   "source": [
    "dfKetQua.groupby(\"Branding\").agg({\n",
    "    \"outgoing_mins_per_month\": 'mean',\n",
    "    \"outgoing_sms_per_month\": 'mean',\n",
    "    'monthly_mb': 'mean',\n",
    "    'use_id': 'count'\n",
    "})"
   ]
  },
  {
   "cell_type": "markdown",
   "metadata": {},
   "source": [
    "8. Trực quan số lượng người dùng các nhãn hàng"
   ]
  },
  {
   "cell_type": "code",
   "execution_count": 101,
   "metadata": {},
   "outputs": [
    {
     "data": {
      "image/png": "[encoded data removed]",
      "text/plain": [
       "<Figure size 640x480 with 1 Axes>"
      ]
     },
     "metadata": {},
     "output_type": "display_data"
    }
   ],
   "source": [
    "import seaborn as sns\n",
    "import matplotlib.pyplot as plt\n",
    "\n",
    "sns.countplot(data=dfKetQua, y='Branding')\n",
    "plt.show()"
   ]
  },
  {
   "cell_type": "markdown",
   "metadata": {},
   "source": [
    "9. Trực quan hóa dữ liệu trung bình phút gọi, trung bình sms và dung lượng sử dụng trên \n",
    "từng nhóm nhãn hàng bán lẻ \n"
   ]
  },
  {
   "cell_type": "code",
   "execution_count": 105,
   "metadata": {},
   "outputs": [
    {
     "data": {
      "image/png": "[encoded data removed]",
      "text/plain": [
       "<Figure size 640x480 with 1 Axes>"
      ]
     },
     "metadata": {},
     "output_type": "display_data"
    }
   ],
   "source": [
    "import numpy as np\n",
    "sns.barplot(data=dfKetQua, y=\"Branding\", x=\"outgoing_mins_per_month\", estimator=np.mean, errorbar=None)\n",
    "plt.show()"
   ]
  },
  {
   "cell_type": "markdown",
   "metadata": {},
   "source": [
    "10. Khảo sát tương quan giữa phút gọi, sms và dung lượng trên từng nhóm nhãn hàng "
   ]
  },
  {
   "cell_type": "code",
   "execution_count": 107,
   "metadata": {},
   "outputs": [
    {
     "data": {
      "image/png": "[encoded data removed]",
      "text/plain": [
       "<Figure size 640x480 with 1 Axes>"
      ]
     },
     "metadata": {},
     "output_type": "display_data"
    }
   ],
   "source": [
    "sns.scatterplot(x=\"outgoing_mins_per_month\", y=\"outgoing_sms_per_month\", hue=\"Branding\", data=dfKetQua, size=\"monthly_mb\")\n",
    "plt.show()"
   ]
  },
  {
   "cell_type": "code",
   "execution_count": 110,
   "metadata": {},
   "outputs": [],
   "source": [
    "from scipy import stats"
   ]
  },
  {
   "cell_type": "markdown",
   "metadata": {},
   "source": [
    "11. Hãy kiểm định xem trung bình outgoing_mins_per_month có bằng 200 phút \n"
   ]
  },
  {
   "cell_type": "code",
   "execution_count": 111,
   "metadata": {},
   "outputs": [
    {
     "name": "stdout",
     "output_type": "stream",
     "text": [
      "T-statistic: 0.3678\n",
      "P-value: 0.7134\n",
      "Không đủ bằng chứng để bác bỏ H0: Trung bình có thể bằng 200 phút.\n"
     ]
    }
   ],
   "source": [
    "t_stat, p_value = stats.ttest_1samp(dfKetQua[\"outgoing_mins_per_month\"], 200)\n",
    "\n",
    "# Kết quả\n",
    "print(f\"T-statistic: {t_stat:.4f}\")\n",
    "print(f\"P-value: {p_value:.4f}\")\n",
    "\n",
    "\n",
    "alpha = 0.05\n",
    "if p_value < alpha:\n",
    "    print(\"Bác bỏ giả thuyết H0: Trung bình không bằng 200 phút.\")\n",
    "else:\n",
    "    print(\"Không đủ bằng chứng để bác bỏ H0: Trung bình có thể bằng 200 phút.\")"
   ]
  },
  {
   "cell_type": "markdown",
   "metadata": {},
   "source": [
    "12. Hãy kiểm định xem trung bình outgoing_sms_per_month có bằng 100 tin nhắn \n"
   ]
  },
  {
   "cell_type": "code",
   "execution_count": 112,
   "metadata": {},
   "outputs": [
    {
     "name": "stdout",
     "output_type": "stream",
     "text": [
      "T-statistic: -2.9567\n",
      "P-value: 0.0035\n",
      "Bác bỏ giả thuyết H0: Trung bình không bằng 100 tin nhắn.\n"
     ]
    }
   ],
   "source": [
    "t_stat, p_value = stats.ttest_1samp(dfKetQua[\"outgoing_sms_per_month\"], 100)\n",
    "\n",
    "# Kết quả\n",
    "print(f\"T-statistic: {t_stat:.4f}\")\n",
    "print(f\"P-value: {p_value:.4f}\")\n",
    "\n",
    "\n",
    "alpha = 0.05\n",
    "if p_value < alpha:\n",
    "    print(\"Bác bỏ giả thuyết H0: Trung bình không bằng 100 tin nhắn.\")\n",
    "else:\n",
    "    print(\"Không đủ bằng chứng để bác bỏ H0: Trung bình có thể bằng 100 tin nhắn.\")"
   ]
  },
  {
   "cell_type": "markdown",
   "metadata": {},
   "source": [
    "13. Hãy kiểm định xem trung bình monthly_mb có bằng 2048 mb \n"
   ]
  },
  {
   "cell_type": "code",
   "execution_count": 113,
   "metadata": {},
   "outputs": [
    {
     "name": "stdout",
     "output_type": "stream",
     "text": [
      "T-statistic: 5.9181\n",
      "P-value: 0.0000\n",
      "Bác bỏ giả thuyết H0: Trung bình không bằng 2048 mb.\n"
     ]
    }
   ],
   "source": [
    "t_stat, p_value = stats.ttest_1samp(dfKetQua[\"monthly_mb\"], 2048)\n",
    "\n",
    "# Kết quả\n",
    "print(f\"T-statistic: {t_stat:.4f}\")\n",
    "print(f\"P-value: {p_value:.4f}\")\n",
    "\n",
    "\n",
    "alpha = 0.05\n",
    "if p_value < alpha:\n",
    "    print(\"Bác bỏ giả thuyết H0: Trung bình không bằng 2048 mb.\")\n",
    "else:\n",
    "    print(\n",
    "        \"Không đủ bằng chứng để bác bỏ H0: Trung bình có thể bằng không bằng 2048 mb.\"\n",
    "    )"
   ]
  },
  {
   "cell_type": "markdown",
   "metadata": {},
   "source": [
    "14. Hãy tạo ma trận tương quan giữa [outgoing_mins_per_month, outgoing_sms_per_month, monthly_mb] và sắp xếp tăng dần về mức độ tương quan \n"
   ]
  },
  {
   "cell_type": "code",
   "execution_count": 114,
   "metadata": {},
   "outputs": [
    {
     "data": {
      "text/html": [
       "<div>\n",
       "<style scoped>\n",
       "    .dataframe tbody tr th:only-of-type {\n",
       "        vertical-align: middle;\n",
       "    }\n",
       "\n",
       "    .dataframe tbody tr th {\n",
       "        vertical-align: top;\n",
       "    }\n",
       "\n",
       "    .dataframe thead th {\n",
       "        text-align: right;\n",
       "    }\n",
       "</style>\n",
       "<table border=\"1\" class=\"dataframe\">\n",
       "  <thead>\n",
       "    <tr style=\"text-align: right;\">\n",
       "      <th></th>\n",
       "      <th>outgoing_mins_per_month</th>\n",
       "      <th>outgoing_sms_per_month</th>\n",
       "      <th>monthly_mb</th>\n",
       "    </tr>\n",
       "  </thead>\n",
       "  <tbody>\n",
       "    <tr>\n",
       "      <th>outgoing_mins_per_month</th>\n",
       "      <td>1.000000</td>\n",
       "      <td>-0.016494</td>\n",
       "      <td>0.213489</td>\n",
       "    </tr>\n",
       "    <tr>\n",
       "      <th>outgoing_sms_per_month</th>\n",
       "      <td>-0.016494</td>\n",
       "      <td>1.000000</td>\n",
       "      <td>-0.046049</td>\n",
       "    </tr>\n",
       "    <tr>\n",
       "      <th>monthly_mb</th>\n",
       "      <td>0.213489</td>\n",
       "      <td>-0.046049</td>\n",
       "      <td>1.000000</td>\n",
       "    </tr>\n",
       "  </tbody>\n",
       "</table>\n",
       "</div>"
      ],
      "text/plain": [
       "                         outgoing_mins_per_month  outgoing_sms_per_month  \\\n",
       "outgoing_mins_per_month                 1.000000               -0.016494   \n",
       "outgoing_sms_per_month                 -0.016494                1.000000   \n",
       "monthly_mb                              0.213489               -0.046049   \n",
       "\n",
       "                         monthly_mb  \n",
       "outgoing_mins_per_month    0.213489  \n",
       "outgoing_sms_per_month    -0.046049  \n",
       "monthly_mb                 1.000000  "
      ]
     },
     "execution_count": 114,
     "metadata": {},
     "output_type": "execute_result"
    }
   ],
   "source": [
    "dfKetQua[['outgoing_mins_per_month', 'outgoing_sms_per_month', 'monthly_mb']].corr()"
   ]
  },
  {
   "cell_type": "markdown",
   "metadata": {},
   "source": [
    "15. Kiểm định xem outgoing_mins_per_month, outgoing_sms_per_month có tương quan \n"
   ]
  },
  {
   "cell_type": "code",
   "execution_count": 115,
   "metadata": {},
   "outputs": [
    {
     "name": "stdout",
     "output_type": "stream",
     "text": [
      "Hệ số tương quan Pearson: -0.0165\n",
      "P-value: 0.8162\n",
      "Không đủ bằng chứng để bác bỏ H0: Không có mối tương quan giữa hai biến.\n"
     ]
    }
   ],
   "source": [
    "from scipy.stats import pearsonr\n",
    "\n",
    "corr_coef, p_value = pearsonr(dfKetQua['outgoing_mins_per_month'], dfKetQua['outgoing_sms_per_month'])\n",
    "\n",
    "# Kết quả\n",
    "print(f\"Hệ số tương quan Pearson: {corr_coef:.4f}\")\n",
    "print(f\"P-value: {p_value:.4f}\")\n",
    "\n",
    "# Kiểm tra mức ý nghĩa 0.05\n",
    "alpha = 0.05\n",
    "if p_value < alpha:\n",
    "    print(\"Bác bỏ giả thuyết H0: Có mối tương quan giữa hai biến.\")\n",
    "else:\n",
    "    print(\"Không đủ bằng chứng để bác bỏ H0: Không có mối tương quan giữa hai biến.\")"
   ]
  },
  {
   "cell_type": "markdown",
   "metadata": {},
   "source": [
    "16. Hãy kiểm định xem có mối quan hệ nào giữa platform và branding \n"
   ]
  },
  {
   "cell_type": "code",
   "execution_count": 119,
   "metadata": {},
   "outputs": [
    {
     "name": "stdout",
     "output_type": "stream",
     "text": [
      "Bảng tần suất quan sát:\n",
      "Branding  HTC  Huawei  LGE  Lava  Lenovo  Motorola  OnePlus  Samsung  Sony  \\\n",
      "platform                                                                     \n",
      "android    44       3    2     2       2        16        6      108    16   \n",
      "\n",
      "Branding  Vodafone  ZTE  \n",
      "platform                 \n",
      "android          1    1  \n",
      "\n",
      "Chi-squared statistic: 0.0000\n",
      "P-value: 1.0000\n",
      "Degrees of Freedom: 0\n",
      "Expected Frequencies Table:\n",
      "Branding   HTC  Huawei  LGE  Lava  Lenovo  Motorola  OnePlus  Samsung  Sony  \\\n",
      "platform                                                                      \n",
      "android   44.0     3.0  2.0   2.0     2.0      16.0      6.0    108.0  16.0   \n",
      "\n",
      "Branding  Vodafone  ZTE  \n",
      "platform                 \n",
      "android        1.0  1.0  \n",
      "\n",
      "Không đủ bằng chứng để bác bỏ H0: Không có mối quan hệ giữa platform và branding.\n"
     ]
    }
   ],
   "source": [
    "# Tạo bảng tần suất\n",
    "contingency_table = pd.crosstab(dfKetQua[\"platform\"], dfKetQua[\"Branding\"])\n",
    "\n",
    "# Thực hiện kiểm định Chi-squared\n",
    "chi2, p_value, dof, expected = stats.chi2_contingency(contingency_table)\n",
    "\n",
    "# Kết quả\n",
    "print(\"Bảng tần suất quan sát:\")\n",
    "print(contingency_table)\n",
    "\n",
    "print(f\"\\nChi-squared statistic: {chi2:.4f}\")\n",
    "print(f\"P-value: {p_value:.4f}\")\n",
    "print(f\"Degrees of Freedom: {dof}\")\n",
    "print(\"Expected Frequencies Table:\")\n",
    "print(\n",
    "    pd.DataFrame(\n",
    "        expected, index=contingency_table.index, columns=contingency_table.columns\n",
    "    )\n",
    ")\n",
    "\n",
    "# Kiểm tra mức ý nghĩa 0.05\n",
    "alpha = 0.05\n",
    "if p_value < alpha:\n",
    "    print(\"\\nBác bỏ giả thuyết H0: Có mối quan hệ giữa platform và branding.\")\n",
    "else:\n",
    "    print(\n",
    "        \"\\nKhông đủ bằng chứng để bác bỏ H0: Không có mối quan hệ giữa platform và branding.\"\n",
    "    )"
   ]
  },
  {
   "cell_type": "markdown",
   "metadata": {},
   "source": [
    "17. Hãy kiểm định xem có mối quan hệ nào giữa monthly_mb và platform \n"
   ]
  },
  {
   "cell_type": "code",
   "execution_count": 124,
   "metadata": {},
   "outputs": [
    {
     "name": "stdout",
     "output_type": "stream",
     "text": [
      "Số lượng nhóm platform: 1\n",
      "Kết quả kiểm định T-test:\n",
      "P-value: 1.0000\n",
      "\n",
      "Không đủ bằng chứng để bác bỏ H0: Không có sự khác biệt đáng kể về monthly_mb giữa các nhóm platform.\n"
     ]
    }
   ],
   "source": [
    "# Kiểm tra số lượng nhóm platform\n",
    "platform_groups = dfKetQua[\"platform\"].unique()\n",
    "\n",
    "print(f\"Số lượng nhóm platform: {len(platform_groups)}\")\n",
    "\n",
    "if len(platform_groups) > 2:\n",
    "    # Tạo danh sách dữ liệu theo từng nhóm platform\n",
    "    grouped_data = [\n",
    "        dfKetQua[dfKetQua[\"platform\"] == platform][\"monthly_mb\"] for platform in platform_groups\n",
    "    ]\n",
    "\n",
    "    # Kiểm định ANOVA\n",
    "    f_stat, p_value = stats.f_oneway(*grouped_data)\n",
    "    test_type = \"ANOVA\"\n",
    "else:\n",
    "    # Nếu chỉ có hai nhóm, sử dụng kiểm định t-test\n",
    "    groups = dfKetQua[\"platform\"].unique()\n",
    "    group1 = dfKetQua[dfKetQua[\"platform\"] == groups[0]][\"monthly_mb\"]\n",
    "    group2 = dfKetQua[dfKetQua[\"platform\"] == groups[1]][\"monthly_mb\"]\n",
    "\n",
    "    f_stat, p_value = stats.ttest_ind(group1, group2, equal_var=False)  # Welch's t-test\n",
    "    test_type = \"T-test\"\n",
    "\n",
    "# Kết quả kiểm định\n",
    "print(f\"Kết quả kiểm định {test_type}:\")\n",
    "# print(f\"Statistic: {f_stat:.4f}\")\n",
    "print(f\"P-value: {p_value:.4f}\")\n",
    "\n",
    "# Kiểm tra mức ý nghĩa 0.05\n",
    "alpha = 0.05\n",
    "if p_value < alpha:\n",
    "    print(\n",
    "        \"\\nBác bỏ giả thuyết H0: Có sự khác biệt về monthly_mb giữa các nhóm platform.\"\n",
    "    )\n",
    "else:\n",
    "    # Không kiểm thử được -> không đủ bằng chứng bác bỏ Giả thuyết\n",
    "    print(\n",
    "        \"\\nKhông đủ bằng chứng để bác bỏ H0: Không có sự khác biệt đáng kể về monthly_mb giữa các nhóm platform.\"\n",
    "    )"
   ]
  },
  {
   "cell_type": "markdown",
   "metadata": {},
   "source": [
    "18. Hãy kiểm định xem có mối quan hệ nào giữa monthly_mb và platform theo loại branding \n"
   ]
  },
  {
   "cell_type": "code",
   "execution_count": 127,
   "metadata": {},
   "outputs": [
    {
     "name": "stdout",
     "output_type": "stream",
     "text": [
      "\n",
      "==== Kiểm định cho thương hiệu: Samsung ====\n",
      "Không đủ dữ liệu để kiểm định (chỉ có một nền tảng).\n",
      "\n",
      "==== Kiểm định cho thương hiệu: Sony ====\n",
      "Không đủ dữ liệu để kiểm định (chỉ có một nền tảng).\n",
      "\n",
      "==== Kiểm định cho thương hiệu: OnePlus ====\n",
      "Không đủ dữ liệu để kiểm định (chỉ có một nền tảng).\n",
      "\n",
      "==== Kiểm định cho thương hiệu: HTC ====\n",
      "Không đủ dữ liệu để kiểm định (chỉ có một nền tảng).\n",
      "\n",
      "==== Kiểm định cho thương hiệu: LGE ====\n",
      "Không đủ dữ liệu để kiểm định (chỉ có một nền tảng).\n",
      "\n",
      "==== Kiểm định cho thương hiệu: Huawei ====\n",
      "Không đủ dữ liệu để kiểm định (chỉ có một nền tảng).\n",
      "\n",
      "==== Kiểm định cho thương hiệu: Motorola ====\n",
      "Không đủ dữ liệu để kiểm định (chỉ có một nền tảng).\n",
      "\n",
      "==== Kiểm định cho thương hiệu: Lenovo ====\n",
      "Không đủ dữ liệu để kiểm định (chỉ có một nền tảng).\n",
      "\n",
      "==== Kiểm định cho thương hiệu: Lava ====\n",
      "Không đủ dữ liệu để kiểm định (chỉ có một nền tảng).\n",
      "\n",
      "==== Kiểm định cho thương hiệu: Vodafone ====\n",
      "Không đủ dữ liệu để kiểm định (chỉ có một nền tảng).\n",
      "\n",
      "==== Kiểm định cho thương hiệu: ZTE ====\n",
      "Không đủ dữ liệu để kiểm định (chỉ có một nền tảng).\n"
     ]
    }
   ],
   "source": [
    "# Lặp qua từng thương hiệu (branding)\n",
    "for brand in dfKetQua[\"Branding\"].unique():\n",
    "    df_brand = dfKetQua[\n",
    "        dfKetQua[\"Branding\"] == brand\n",
    "    ]  # Lọc dữ liệu theo từng thương hiệu\n",
    "    platforms = df_brand[\"platform\"].unique()\n",
    "\n",
    "    print(f\"\\n==== Kiểm định cho thương hiệu: {brand} ====\")\n",
    "\n",
    "    if len(platforms) > 2:\n",
    "        # ANOVA nếu có nhiều hơn 2 platform\n",
    "        grouped_data = [\n",
    "            df_brand[df_brand[\"platform\"] == p][\"monthly_mb\"] for p in platforms\n",
    "        ]\n",
    "        f_stat, p_value = stats.f_oneway(*grouped_data)\n",
    "        test_type = \"ANOVA\"\n",
    "    elif len(platforms) == 2:\n",
    "        # T-test nếu chỉ có 2 platform\n",
    "        group1 = df_brand[df_brand[\"platform\"] == platforms[0]][\"monthly_mb\"]\n",
    "        group2 = df_brand[df_brand[\"platform\"] == platforms[1]][\"monthly_mb\"]\n",
    "        f_stat, p_value = stats.ttest_ind(\n",
    "            group1, group2, equal_var=False\n",
    "        )  # Welch's t-test\n",
    "        test_type = \"T-test\"\n",
    "    else:\n",
    "        print(\"Không đủ dữ liệu để kiểm định (chỉ có một nền tảng).\")\n",
    "        continue\n",
    "\n",
    "    # Hiển thị kết quả kiểm định\n",
    "    print(f\"Kết quả kiểm định {test_type}:\")\n",
    "    print(f\"Statistic: {f_stat:.4f}\")\n",
    "    print(f\"P-value: {p_value:.4f}\")\n",
    "\n",
    "    # Kiểm tra mức ý nghĩa 0.05\n",
    "    alpha = 0.05\n",
    "    if p_value < alpha:\n",
    "        print(\n",
    "            \"=> Bác bỏ giả thuyết H0: Có sự khác biệt về monthly_mb giữa các platform trong thương hiệu này.\"\n",
    "        )\n",
    "    else:\n",
    "        print(\n",
    "            \"=> Không đủ bằng chứng để bác bỏ H0: Không có sự khác biệt đáng kể về monthly_mb giữa các platform trong thương hiệu này.\"\n",
    "        )"
   ]
  },
  {
   "cell_type": "markdown",
   "metadata": {},
   "source": [
    "19. Phân tích sự ảnh hưởng của outgoing_mins_per_month, outgoing_sms_per_month đến \n",
    "monthly_mb dựa trên mô hình hồi quy tuyến tính "
   ]
  },
  {
   "cell_type": "code",
   "execution_count": 128,
   "metadata": {},
   "outputs": [
    {
     "name": "stdout",
     "output_type": "stream",
     "text": [
      "                            OLS Regression Results                            \n",
      "==============================================================================\n",
      "Dep. Variable:             monthly_mb   R-squared:                       0.047\n",
      "Model:                            OLS   Adj. R-squared:                  0.038\n",
      "Method:                 Least Squares   F-statistic:                     4.925\n",
      "Date:                Fri, 28 Feb 2025   Prob (F-statistic):            0.00818\n",
      "Time:                        20:31:23   Log-Likelihood:                -2005.3\n",
      "No. Observations:                 201   AIC:                             4017.\n",
      "Df Residuals:                     198   BIC:                             4027.\n",
      "Df Model:                           2                                         \n",
      "Covariance Type:            nonrobust                                         \n",
      "===========================================================================================\n",
      "                              coef    std err          t      P>|t|      [0.025      0.975]\n",
      "-------------------------------------------------------------------------------------------\n",
      "const                    3513.0441    631.350      5.564      0.000    2268.010    4758.078\n",
      "outgoing_mins_per_month     4.8782      1.590      3.067      0.002       1.742       8.014\n",
      "outgoing_sms_per_month     -2.8500      4.648     -0.613      0.540     -12.016       6.316\n",
      "==============================================================================\n",
      "Omnibus:                      107.866   Durbin-Watson:                   1.330\n",
      "Prob(Omnibus):                  0.000   Jarque-Bera (JB):              429.093\n",
      "Skew:                           2.237   Prob(JB):                     6.66e-94\n",
      "Kurtosis:                       8.587   Cond. No.                         539.\n",
      "==============================================================================\n",
      "\n",
      "Notes:\n",
      "[1] Standard Errors assume that the covariance matrix of the errors is correctly specified.\n"
     ]
    }
   ],
   "source": [
    "import statsmodels.api as sm\n",
    "\n",
    "X = dfKetQua[[\"outgoing_mins_per_month\", \"outgoing_sms_per_month\"]]\n",
    "y = dfKetQua[\"monthly_mb\"]\n",
    "\n",
    "# Thêm cột hệ số chặn (constant) vào X\n",
    "X = sm.add_constant(X)\n",
    "\n",
    "# Xây dựng mô hình hồi quy tuyến tính\n",
    "model = sm.OLS(y, X).fit()\n",
    "\n",
    "# Hiển thị kết quả\n",
    "print(model.summary())"
   ]
  },
  {
   "cell_type": "markdown",
   "metadata": {},
   "source": [
    "- R-squared = 0.047 giải thích được **4.7%** là giải thích được rất thấp.\n",
    "- Tuy nhiên, Prob (F-statistic): 0.00818 -> Có ý nghĩa thống kê khi sử dụng **outgoing_mins_per_month**, **outgoing_sms_per_month** để giải thích cho **monthly_mb**\n",
    "\n",
    "- Với phương trình tổng biến: `y = A0 + A1 * x1 + A2 * x2` \n",
    "- `monthly_mb = 3513.0441 + 4.8782 * outgoing_mins_per_month + (-2.8500) * outgoing_sms_per_month`"
   ]
  },
  {
   "cell_type": "markdown",
   "metadata": {},
   "source": [
    "20. Dựa trên mô hình hồi quy tuyến tính hãy cho biết nếu outgoing_mins_per_month, \n",
    "outgoing_sms_per_month lần lượt là 50 phút, 75 tin nhắn thì tháng đó người dùng sẽ tiêu \n",
    "hao bao nhiêu dung lượng internet (mb) cho quá trình sử dụng.  \n",
    "(*) Lưu ý: Sinh viên xây dựng chương trình phần mềm hoàn chỉnh dạng Console \n",
    "Application với Input là outgoing_mins_per_month, outgoing_sms_per_month và output \n",
    "là giá trị monthly_mb dự báo được."
   ]
  },
  {
   "cell_type": "code",
   "execution_count": 131,
   "metadata": {},
   "outputs": [
    {
     "name": "stdout",
     "output_type": "stream",
     "text": [
      "Dự đoán lưu lượng data hàng tháng: 3543.20 MB\n"
     ]
    }
   ],
   "source": [
    "outgoing_mins_per_month = 50\n",
    "outgoing_sms_per_month = 75\n",
    "\n",
    "monthly_mb = model.predict([1, outgoing_mins_per_month, outgoing_sms_per_month])\n",
    "\n",
    "print(f\"Dự đoán lưu lượng data hàng tháng: {monthly_mb[0]:.2f} MB\")"
   ]
  }
 ],
 "metadata": {
  "kernelspec": {
   "display_name": "Python 3",
   "language": "python",
   "name": "python3"
  },
  "language_info": {
   "codemirror_mode": {
    "name": "ipython",
    "version": 3
   },
   "file_extension": ".py",
   "mimetype": "text/x-python",
   "name": "python",
   "nbconvert_exporter": "python",
   "pygments_lexer": "ipython3",
   "version": "3.12.0"
  }
 },
 "nbformat": 4,
 "nbformat_minor": 2
}
