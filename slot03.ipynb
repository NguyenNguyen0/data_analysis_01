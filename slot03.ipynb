{
 "cells": [
  {
   "cell_type": "markdown",
   "metadata": {},
   "source": [
    "# KIỂM THỬ VÀ MÔ HÌNH HỒI QUY TUYẾN TÍNH"
   ]
  },
  {
   "cell_type": "code",
   "execution_count": 3,
   "metadata": {},
   "outputs": [
    {
     "data": {
      "text/html": [
       "<div>\n",
       "<style scoped>\n",
       "    .dataframe tbody tr th:only-of-type {\n",
       "        vertical-align: middle;\n",
       "    }\n",
       "\n",
       "    .dataframe tbody tr th {\n",
       "        vertical-align: top;\n",
       "    }\n",
       "\n",
       "    .dataframe thead th {\n",
       "        text-align: right;\n",
       "    }\n",
       "</style>\n",
       "<table border=\"1\" class=\"dataframe\">\n",
       "  <thead>\n",
       "    <tr style=\"text-align: right;\">\n",
       "      <th></th>\n",
       "      <th>MSSV</th>\n",
       "      <th>GT</th>\n",
       "      <th>DT</th>\n",
       "      <th>KV</th>\n",
       "      <th>M1</th>\n",
       "      <th>M2</th>\n",
       "      <th>M3</th>\n",
       "      <th>KT</th>\n",
       "      <th>NT</th>\n",
       "      <th>NGHE</th>\n",
       "    </tr>\n",
       "  </thead>\n",
       "  <tbody>\n",
       "    <tr>\n",
       "      <th>0</th>\n",
       "      <td>SV001</td>\n",
       "      <td>F</td>\n",
       "      <td>NaN</td>\n",
       "      <td>2NT</td>\n",
       "      <td>3.25</td>\n",
       "      <td>3.25</td>\n",
       "      <td>4.50</td>\n",
       "      <td>A1</td>\n",
       "      <td>12/7/2018</td>\n",
       "      <td>No</td>\n",
       "    </tr>\n",
       "    <tr>\n",
       "      <th>1</th>\n",
       "      <td>SV002</td>\n",
       "      <td>M</td>\n",
       "      <td>NaN</td>\n",
       "      <td>1</td>\n",
       "      <td>6.00</td>\n",
       "      <td>4.00</td>\n",
       "      <td>3.50</td>\n",
       "      <td>C</td>\n",
       "      <td>12/7/2018</td>\n",
       "      <td>Yes</td>\n",
       "    </tr>\n",
       "    <tr>\n",
       "      <th>2</th>\n",
       "      <td>SV003</td>\n",
       "      <td>M</td>\n",
       "      <td>NaN</td>\n",
       "      <td>1</td>\n",
       "      <td>5.00</td>\n",
       "      <td>6.75</td>\n",
       "      <td>4.00</td>\n",
       "      <td>C</td>\n",
       "      <td>12/7/2018</td>\n",
       "      <td>No</td>\n",
       "    </tr>\n",
       "    <tr>\n",
       "      <th>3</th>\n",
       "      <td>SV004</td>\n",
       "      <td>M</td>\n",
       "      <td>NaN</td>\n",
       "      <td>1</td>\n",
       "      <td>4.25</td>\n",
       "      <td>4.25</td>\n",
       "      <td>5.25</td>\n",
       "      <td>D1</td>\n",
       "      <td>12/7/2018</td>\n",
       "      <td>No</td>\n",
       "    </tr>\n",
       "    <tr>\n",
       "      <th>4</th>\n",
       "      <td>SV005</td>\n",
       "      <td>M</td>\n",
       "      <td>NaN</td>\n",
       "      <td>2NT</td>\n",
       "      <td>4.25</td>\n",
       "      <td>4.50</td>\n",
       "      <td>5.00</td>\n",
       "      <td>A</td>\n",
       "      <td>12/7/2018</td>\n",
       "      <td>No</td>\n",
       "    </tr>\n",
       "    <tr>\n",
       "      <th>...</th>\n",
       "      <td>...</td>\n",
       "      <td>...</td>\n",
       "      <td>...</td>\n",
       "      <td>...</td>\n",
       "      <td>...</td>\n",
       "      <td>...</td>\n",
       "      <td>...</td>\n",
       "      <td>...</td>\n",
       "      <td>...</td>\n",
       "      <td>...</td>\n",
       "    </tr>\n",
       "    <tr>\n",
       "      <th>95</th>\n",
       "      <td>SV0096</td>\n",
       "      <td>F</td>\n",
       "      <td>NaN</td>\n",
       "      <td>1</td>\n",
       "      <td>5.25</td>\n",
       "      <td>1.50</td>\n",
       "      <td>6.25</td>\n",
       "      <td>C</td>\n",
       "      <td>7/20/2022</td>\n",
       "      <td>Yes</td>\n",
       "    </tr>\n",
       "    <tr>\n",
       "      <th>96</th>\n",
       "      <td>SV0097</td>\n",
       "      <td>F</td>\n",
       "      <td>NaN</td>\n",
       "      <td>1</td>\n",
       "      <td>5.25</td>\n",
       "      <td>3.75</td>\n",
       "      <td>4.75</td>\n",
       "      <td>C</td>\n",
       "      <td>7/20/2022</td>\n",
       "      <td>No</td>\n",
       "    </tr>\n",
       "    <tr>\n",
       "      <th>97</th>\n",
       "      <td>SV0098</td>\n",
       "      <td>M</td>\n",
       "      <td>NaN</td>\n",
       "      <td>2NT</td>\n",
       "      <td>7.00</td>\n",
       "      <td>8.00</td>\n",
       "      <td>4.00</td>\n",
       "      <td>C</td>\n",
       "      <td>7/20/2022</td>\n",
       "      <td>Yes</td>\n",
       "    </tr>\n",
       "    <tr>\n",
       "      <th>98</th>\n",
       "      <td>SV0099</td>\n",
       "      <td>M</td>\n",
       "      <td>NaN</td>\n",
       "      <td>1</td>\n",
       "      <td>5.00</td>\n",
       "      <td>3.50</td>\n",
       "      <td>5.50</td>\n",
       "      <td>C</td>\n",
       "      <td>7/20/2022</td>\n",
       "      <td>No</td>\n",
       "    </tr>\n",
       "    <tr>\n",
       "      <th>99</th>\n",
       "      <td>SV00100</td>\n",
       "      <td>M</td>\n",
       "      <td>NaN</td>\n",
       "      <td>2NT</td>\n",
       "      <td>5.25</td>\n",
       "      <td>2.50</td>\n",
       "      <td>4.25</td>\n",
       "      <td>C</td>\n",
       "      <td>7/20/2022</td>\n",
       "      <td>Yes</td>\n",
       "    </tr>\n",
       "  </tbody>\n",
       "</table>\n",
       "<p>100 rows × 10 columns</p>\n",
       "</div>"
      ],
      "text/plain": [
       "       MSSV GT  DT   KV    M1    M2    M3  KT         NT NGHE\n",
       "0     SV001  F NaN  2NT  3.25  3.25  4.50  A1  12/7/2018   No\n",
       "1     SV002  M NaN    1  6.00  4.00  3.50   C  12/7/2018  Yes\n",
       "2     SV003  M NaN    1  5.00  6.75  4.00   C  12/7/2018   No\n",
       "3     SV004  M NaN    1  4.25  4.25  5.25  D1  12/7/2018   No\n",
       "4     SV005  M NaN  2NT  4.25  4.50  5.00   A  12/7/2018   No\n",
       "..      ... ..  ..  ...   ...   ...   ...  ..        ...  ...\n",
       "95   SV0096  F NaN    1  5.25  1.50  6.25   C  7/20/2022  Yes\n",
       "96   SV0097  F NaN    1  5.25  3.75  4.75   C  7/20/2022   No\n",
       "97   SV0098  M NaN  2NT  7.00  8.00  4.00   C  7/20/2022  Yes\n",
       "98   SV0099  M NaN    1  5.00  3.50  5.50   C  7/20/2022   No\n",
       "99  SV00100  M NaN  2NT  5.25  2.50  4.25   C  7/20/2022  Yes\n",
       "\n",
       "[100 rows x 10 columns]"
      ]
     },
     "execution_count": 3,
     "metadata": {},
     "output_type": "execute_result"
    }
   ],
   "source": [
    "import pandas as pd\n",
    "df = pd.read_csv('dulieuxettuyendaihoc.csv',\n",
    "                 header=0,delimiter=',',encoding='utf-8')\n",
    "\n",
    "df.rename(columns={'NGAYTHI':'NT',\n",
    "                   'DINHHUONGNGHENGHIEP':'NGHE'}, \n",
    "                   inplace=True)\n",
    "df"
   ]
  },
  {
   "cell_type": "code",
   "execution_count": 4,
   "metadata": {},
   "outputs": [
    {
     "data": {
      "text/plain": [
       "count    14.000000\n",
       "mean      5.660714\n",
       "std       0.812209\n",
       "min       4.750000\n",
       "25%       5.062500\n",
       "50%       5.250000\n",
       "75%       6.375000\n",
       "max       7.000000\n",
       "Name: M1, dtype: float64"
      ]
     },
     "execution_count": 4,
     "metadata": {},
     "output_type": "execute_result"
    }
   ],
   "source": [
    "dfKhoiC = df.loc[df[\"KT\"] == \"C\"]\n",
    "dfKhoiC[\"M1\"]\n",
    "\n",
    "dfKhoiC[\"M1\"].describe()"
   ]
  },
  {
   "cell_type": "markdown",
   "metadata": {},
   "source": [
    "Dưới đây là bảng tóm tắt về nội dung, ý nghĩa, kiểu dữ liệu và ví dụ của các mô hình kiểm thử:\n",
    "\n",
    "| **Mô hình kiểm thử**        | **Nội dung** | **Ý nghĩa** | **Kiểu dữ liệu** | **Ví dụ** |\n",
    "|----------------------------|-------------|-------------|------------------|------------|\n",
    "| **One Sample T-Test** | Kiểm tra trung bình của một mẫu so với một giá trị chuẩn | Xác định xem trung bình của một nhóm có khác biệt đáng kể so với giá trị mong đợi không | Dữ liệu định lượng, phân phối chuẩn | So sánh điểm trung bình của sinh viên với điểm chuẩn 70 |\n",
    "| **One Sample Z-Test** | Kiểm tra trung bình của một mẫu với giá trị chuẩn khi biết phương sai tổng thể | Kiểm tra sự khác biệt giữa trung bình mẫu và trung bình quần thể | Dữ liệu định lượng, phân phối chuẩn, kích thước mẫu lớn (n > 30) | Kiểm tra chiều cao trung bình của một nhóm người có khác biệt với trung bình dân số không |\n",
    "| **Two Sample T-Test** | So sánh trung bình của hai nhóm độc lập | Kiểm tra sự khác biệt giữa hai nhóm độc lập | Dữ liệu định lượng, phân phối chuẩn, phương sai có thể bằng hoặc khác nhau | So sánh điểm trung bình của nam và nữ trong một kỳ thi |\n",
    "| **Two Sample Z-Test** | So sánh trung bình của hai nhóm độc lập khi biết phương sai tổng thể | Kiểm tra sự khác biệt giữa hai nhóm khi kích thước mẫu lớn | Dữ liệu định lượng, phân phối chuẩn, kích thước mẫu lớn (n > 30) | So sánh chiều cao trung bình của hai nhóm học sinh từ hai trường khác nhau |\n",
    "| **Pearson Correlation** | Đo lường mối quan hệ tuyến tính giữa hai biến | Xác định mức độ tương quan giữa hai biến số | Dữ liệu định lượng, liên tục, phân phối chuẩn | Kiểm tra mối quan hệ giữa số giờ học và điểm số của sinh viên |\n",
    "| **Fisher’s Exact Test** | Kiểm tra mối quan hệ giữa hai biến phân loại trong bảng 2x2 | Dùng khi kích thước mẫu nhỏ để xác định mối liên hệ giữa hai biến danh mục | Dữ liệu định tính (categorical), bảng 2x2 | Xác định liệu một loại thuốc có ảnh hưởng đến việc chữa bệnh không dựa trên mẫu nhỏ |\n",
    "| **Chi-Square Test** | Kiểm tra sự phụ thuộc giữa hai biến phân loại | Kiểm tra xem có mối liên hệ giữa hai biến danh mục không | Dữ liệu định tính (categorical) | Kiểm tra xem giới tính có ảnh hưởng đến việc chọn ngành học không |\n",
    "| **One-Way ANOVA** | So sánh trung bình giữa nhiều nhóm độc lập | Kiểm tra xem có sự khác biệt đáng kể giữa trung bình của ≥ 2 nhóm không | Dữ liệu định lượng, phân phối chuẩn | So sánh điểm trung bình của học sinh từ ba trường khác nhau |\n",
    "| **Two-Way ANOVA** | So sánh trung bình giữa nhiều nhóm với hai yếu tố độc lập | Kiểm tra ảnh hưởng đồng thời của hai yếu tố lên biến phụ thuộc | Dữ liệu định lượng, phân phối chuẩn | Kiểm tra ảnh hưởng của phương pháp giảng dạy và giới tính lên điểm số sinh viên |\n"
   ]
  },
  {
   "cell_type": "code",
   "execution_count": 5,
   "metadata": {},
   "outputs": [
    {
     "data": {
      "text/plain": [
       "TtestResult(statistic=np.float64(7.650519779016341), pvalue=np.float64(3.6339826927369557e-06), df=np.int64(13))"
      ]
     },
     "execution_count": 5,
     "metadata": {},
     "output_type": "execute_result"
    }
   ],
   "source": [
    "import scipy.stats as stats\n",
    "\n",
    "stats.ttest_1samp(dfKhoiC[\"M1\"], popmean=4.0)"
   ]
  },
  {
   "cell_type": "markdown",
   "metadata": {},
   "source": [
    "**Bài tập**: Sinh viên kiểm tra xem điểm trung bình của môn thi M2 của khối thi C có bằng 5.7 hay không\n"
   ]
  },
  {
   "cell_type": "code",
   "execution_count": 6,
   "metadata": {},
   "outputs": [
    {
     "data": {
      "text/plain": [
       "np.float64(0.0144629751431775)"
      ]
     },
     "execution_count": 6,
     "metadata": {},
     "output_type": "execute_result"
    }
   ],
   "source": [
    "stats.ttest_1samp(dfKhoiC[\"M2\"], popmean=5.7).pvalue"
   ]
  },
  {
   "cell_type": "markdown",
   "metadata": {},
   "source": [
    "**Trả lời**: Do `p-value=0.0144` < `0.05` nên điểm trung bình môn M2 khối C khác với 5.7 "
   ]
  },
  {
   "cell_type": "markdown",
   "metadata": {},
   "source": [
    "**Bài tập**: Sinh viên về tự tìm hiểu cách thiết lập mức tin cậy hoặc sai lầm\n",
    "\n",
    "**Bài tập**: Hãy kiểm tra xem có phải điểm trung bình M3 của thí sinh thi khối C có là 6.5 hay không với mức sai lầm là 10%"
   ]
  },
  {
   "cell_type": "code",
   "execution_count": 7,
   "metadata": {},
   "outputs": [
    {
     "data": {
      "text/plain": [
       "TtestResult(statistic=np.float64(-7.186743391518831), pvalue=np.float64(7.084381773314355e-06), df=np.int64(13))"
      ]
     },
     "execution_count": 7,
     "metadata": {},
     "output_type": "execute_result"
    }
   ],
   "source": [
    "stats.ttest_1samp(dfKhoiC[\"M3\"], popmean=6.5)"
   ]
  },
  {
   "cell_type": "markdown",
   "metadata": {},
   "source": [
    "- mức sai lầm alpha = 10%\n",
    "- Giả thuyết kiểm định `H0`: Điểm trung bình môn M3 của thí sinh khối C là 6.5\n",
    "- **Trả lời**: `p-value=0.000007` < `0.1` => bác bỏ `H0`. Kết luận điểm trung bình môn M3 của thí sinh khối C khác 6.5 với ý nghĩa 10%."
   ]
  },
  {
   "cell_type": "code",
   "execution_count": 8,
   "metadata": {},
   "outputs": [
    {
     "data": {
      "text/plain": [
       "(np.float64(-29.907152266677993), np.float64(1.588509177330612e-196))"
      ]
     },
     "execution_count": 8,
     "metadata": {},
     "output_type": "execute_result"
    }
   ],
   "source": [
    "from statsmodels.stats.weightstats import ztest as ztest\n",
    "\n",
    "ztest(df[\"M1\"], value=8.0)"
   ]
  },
  {
   "cell_type": "markdown",
   "metadata": {},
   "source": [
    "**Bài tập**: Hãy kiểm tra xem trung bình M2 có bằng 6.7"
   ]
  },
  {
   "cell_type": "code",
   "execution_count": 9,
   "metadata": {},
   "outputs": [
    {
     "data": {
      "text/plain": [
       "(np.float64(-23.06488697108683), np.float64(1.0428701078797563e-117))"
      ]
     },
     "execution_count": 9,
     "metadata": {},
     "output_type": "execute_result"
    }
   ],
   "source": [
    "ztest(df[\"M2\"], value=6.7)"
   ]
  },
  {
   "cell_type": "markdown",
   "metadata": {},
   "source": [
    "- mức sai lầm alpha = 5%\n",
    "- Giả thuyết kiểm định H0: Điểm trung bình môn M2 bằng 6.7\n",
    "- **Trả lời**: `p-value=1.04e-117` < `0.1` => Bác bỏ H0. Kết luận điểm trung bình môn M3 khác 6.7 với ý nghĩa 5% "
   ]
  },
  {
   "cell_type": "code",
   "execution_count": 10,
   "metadata": {},
   "outputs": [
    {
     "data": {
      "text/plain": [
       "TtestResult(statistic=np.float64(2.5331368604654054), pvalue=np.float64(0.017676922552296807), df=np.float64(26.0))"
      ]
     },
     "execution_count": 10,
     "metadata": {},
     "output_type": "execute_result"
    }
   ],
   "source": [
    "dfKhoiC = df.loc[df[\"KT\"] == \"C\"]\n",
    "stats.ttest_ind(dfKhoiC[\"M1\"], dfKhoiC[\"M2\"], equal_var=True)"
   ]
  },
  {
   "cell_type": "markdown",
   "metadata": {},
   "source": [
    "**Bài tập**: Suy diễn xem trung bình M1 có bằng trung bình M3 cho thí sinh thi khối C hay không với mức tin cậy 95%"
   ]
  },
  {
   "cell_type": "code",
   "execution_count": 11,
   "metadata": {},
   "outputs": [
    {
     "data": {
      "text/plain": [
       "TtestResult(statistic=np.float64(2.6321295849540447), pvalue=np.float64(0.014118777771718022), df=np.float64(25.86180414864173))"
      ]
     },
     "execution_count": 11,
     "metadata": {},
     "output_type": "execute_result"
    }
   ],
   "source": [
    "stats.ttest_ind(dfKhoiC[\"M1\"], dfKhoiC[\"M3\"], equal_var=False)"
   ]
  },
  {
   "cell_type": "markdown",
   "metadata": {},
   "source": [
    "- Mức sai lầm alpha = 5%\n",
    "- Giả thuyết H0: Trung bình môn M1 có bằng trung bình M3 cho thí sinh khối C\n",
    "- **Trả lời**: Với `p-value=0.014` < 0.05 => Bác bỏ giả thuyết H0.\n",
    "- **Kết luận**: Với mức tin cậy 95%, ta kết luận rằng điểm trung bình môn M1 không bằng điểm trung bình môn M3 cho các thí sinh khối C. "
   ]
  },
  {
   "cell_type": "code",
   "execution_count": 12,
   "metadata": {},
   "outputs": [
    {
     "data": {
      "text/plain": [
       "(np.float64(-2.9004757923795), np.float64(0.0037259661678783573))"
      ]
     },
     "execution_count": 12,
     "metadata": {},
     "output_type": "execute_result"
    }
   ],
   "source": [
    "ztest(df[\"M1\"], df[\"M2\"], value=0)"
   ]
  },
  {
   "cell_type": "markdown",
   "metadata": {},
   "source": [
    "**Bài tập**: Kiểm tra trung bình M2 và M3 có bằng nhau không với mức tin cậy 95%"
   ]
  },
  {
   "cell_type": "code",
   "execution_count": 13,
   "metadata": {},
   "outputs": [
    {
     "data": {
      "text/plain": [
       "(np.float64(-4.172765180703833), np.float64(3.009250404643791e-05))"
      ]
     },
     "execution_count": 13,
     "metadata": {},
     "output_type": "execute_result"
    }
   ],
   "source": [
    "ztest(df[\"M2\"], df[\"M3\"], value=0)"
   ]
  },
  {
   "cell_type": "markdown",
   "metadata": {},
   "source": [
    "- Mức sai lầm alpha = 5%\n",
    "- Giả thuyết H0: Trung bình môn M2 có bằng trung bình M3 cho thí sinh khối C\n",
    "- **Trả lời**: Với `p-value=3.009e-5` < 0.05 => Bác bỏ giả thuyết H0.\n",
    "- **Kết luận**: Với mức tin cậy 95%, ta kết luận rằng điểm trung bình môn M2 không bằng điểm trung bình môn M3 cho các thí sinh khối C. "
   ]
  },
  {
   "cell_type": "code",
   "execution_count": 14,
   "metadata": {},
   "outputs": [
    {
     "data": {
      "text/plain": [
       "PearsonRResult(statistic=np.float64(0.03515405725785023), pvalue=np.float64(0.7284198928723625))"
      ]
     },
     "execution_count": 14,
     "metadata": {},
     "output_type": "execute_result"
    }
   ],
   "source": [
    "from scipy.stats import pearsonr\n",
    "\n",
    "pearsonr(df[\"M1\"], df[\"M2\"])"
   ]
  },
  {
   "cell_type": "markdown",
   "metadata": {},
   "source": [
    "- Mức sai lầm alpha = 5%\n",
    "- Giả thuyết H0: Không có mối tương quan giữa M1 và M2.\n",
    "- **Trả lời**: Với `r=0.035` gần bằng 0 => (M1, M2) không có mối tương quan tuyến tính đáng kể, Với `p-value=0.7284` > 0.05 => Không bác bỏ giả thuyết H0.\n",
    "- **Kết luận**: Không có mối tương quan tuyến tính giữa M1, M2 "
   ]
  },
  {
   "cell_type": "markdown",
   "metadata": {},
   "source": [
    "**Bài tập**: Sinh viên làm tương tự cho M1 và M3 có tương quan hay không?\n"
   ]
  },
  {
   "cell_type": "code",
   "execution_count": 15,
   "metadata": {},
   "outputs": [
    {
     "data": {
      "text/plain": [
       "PearsonRResult(statistic=np.float64(0.018730760164383135), pvalue=np.float64(0.8532534347055037))"
      ]
     },
     "execution_count": 15,
     "metadata": {},
     "output_type": "execute_result"
    }
   ],
   "source": [
    "pearsonr(df[\"M1\"], df[\"M3\"])"
   ]
  },
  {
   "cell_type": "markdown",
   "metadata": {},
   "source": [
    "- Mức sai lầm alpha = 5%\n",
    "- Giả thuyết H0: Không có mối tương quan giữa M1 và M3.\n",
    "- **Trả lời**: Với `r=0.018` gần bằng 0 => (M1, M3) không có mối tương quan tuyến tính đáng kể, Với `p-value=0.853` > 0.05 => Không bác bỏ giả thuyết H0.\n",
    "- **Kết luận**: Không có mối tương quan tuyến tính giữa M1, M3 "
   ]
  },
  {
   "cell_type": "markdown",
   "metadata": {},
   "source": [
    "**Bài tập**: Sinh viên làm tương tự cho M2 và M3 có tương quan hay không?"
   ]
  },
  {
   "cell_type": "code",
   "execution_count": 16,
   "metadata": {},
   "outputs": [
    {
     "data": {
      "text/plain": [
       "PearsonRResult(statistic=np.float64(-0.09152288755408225), pvalue=np.float64(0.3651344767496172))"
      ]
     },
     "execution_count": 16,
     "metadata": {},
     "output_type": "execute_result"
    }
   ],
   "source": [
    "pearsonr(df[\"M2\"], df[\"M3\"])"
   ]
  },
  {
   "cell_type": "markdown",
   "metadata": {},
   "source": [
    "- Mức sai lầm alpha = 5%\n",
    "- Giả thuyết H0: Không có mối tương quan giữa M2 và M3.\n",
    "- **Trả lời**: Với `r=-0.091` nhỏ hơn 0 => (M2, M3) không có mối tương quan tuyến tính âm, Với `p-value=0.3651` < 0.05 => Bác bỏ giả thuyết H0.\n",
    "- **Kết luận**: Có mối tương quan tuyến tính giữa M2, M3 "
   ]
  },
  {
   "cell_type": "code",
   "execution_count": 17,
   "metadata": {},
   "outputs": [
    {
     "data": {
      "text/html": [
       "<div>\n",
       "<style scoped>\n",
       "    .dataframe tbody tr th:only-of-type {\n",
       "        vertical-align: middle;\n",
       "    }\n",
       "\n",
       "    .dataframe tbody tr th {\n",
       "        vertical-align: top;\n",
       "    }\n",
       "\n",
       "    .dataframe thead th {\n",
       "        text-align: right;\n",
       "    }\n",
       "</style>\n",
       "<table border=\"1\" class=\"dataframe\">\n",
       "  <thead>\n",
       "    <tr style=\"text-align: right;\">\n",
       "      <th>NGHE</th>\n",
       "      <th>No</th>\n",
       "      <th>Yes</th>\n",
       "    </tr>\n",
       "    <tr>\n",
       "      <th>GT</th>\n",
       "      <th></th>\n",
       "      <th></th>\n",
       "    </tr>\n",
       "  </thead>\n",
       "  <tbody>\n",
       "    <tr>\n",
       "      <th>F</th>\n",
       "      <td>23</td>\n",
       "      <td>25</td>\n",
       "    </tr>\n",
       "    <tr>\n",
       "      <th>M</th>\n",
       "      <td>32</td>\n",
       "      <td>20</td>\n",
       "    </tr>\n",
       "  </tbody>\n",
       "</table>\n",
       "</div>"
      ],
      "text/plain": [
       "NGHE  No  Yes\n",
       "GT           \n",
       "F     23   25\n",
       "M     32   20"
      ]
     },
     "execution_count": 17,
     "metadata": {},
     "output_type": "execute_result"
    }
   ],
   "source": [
    "import scipy.stats as stats\n",
    "\n",
    "crosdata = pd.crosstab(df[\"GT\"], [df[\"NGHE\"]], rownames=[\"GT\"], colnames=[\"NGHE\"])\n",
    "crosdata"
   ]
  },
  {
   "cell_type": "code",
   "execution_count": 18,
   "metadata": {},
   "outputs": [
    {
     "name": "stdout",
     "output_type": "stream",
     "text": [
      "odd ratio is : 0.575\n",
      "p_value is : 0.22763927303454412\n"
     ]
    }
   ],
   "source": [
    "odd_ratio, p_value = stats.fisher_exact(crosdata)\n",
    "print(\"odd ratio is : \" + str(odd_ratio))\n",
    "print(\"p_value is : \" + str(p_value))"
   ]
  },
  {
   "cell_type": "code",
   "execution_count": 19,
   "metadata": {},
   "outputs": [
    {
     "data": {
      "text/html": [
       "<div>\n",
       "<style scoped>\n",
       "    .dataframe tbody tr th:only-of-type {\n",
       "        vertical-align: middle;\n",
       "    }\n",
       "\n",
       "    .dataframe tbody tr th {\n",
       "        vertical-align: top;\n",
       "    }\n",
       "\n",
       "    .dataframe thead th {\n",
       "        text-align: right;\n",
       "    }\n",
       "</style>\n",
       "<table border=\"1\" class=\"dataframe\">\n",
       "  <thead>\n",
       "    <tr style=\"text-align: right;\">\n",
       "      <th>KT</th>\n",
       "      <th>A</th>\n",
       "      <th>A1</th>\n",
       "      <th>B</th>\n",
       "      <th>C</th>\n",
       "      <th>D1</th>\n",
       "    </tr>\n",
       "    <tr>\n",
       "      <th>KV</th>\n",
       "      <th></th>\n",
       "      <th></th>\n",
       "      <th></th>\n",
       "      <th></th>\n",
       "      <th></th>\n",
       "    </tr>\n",
       "  </thead>\n",
       "  <tbody>\n",
       "    <tr>\n",
       "      <th>1</th>\n",
       "      <td>29</td>\n",
       "      <td>2</td>\n",
       "      <td>8</td>\n",
       "      <td>8</td>\n",
       "      <td>13</td>\n",
       "    </tr>\n",
       "    <tr>\n",
       "      <th>2</th>\n",
       "      <td>9</td>\n",
       "      <td>0</td>\n",
       "      <td>0</td>\n",
       "      <td>2</td>\n",
       "      <td>8</td>\n",
       "    </tr>\n",
       "    <tr>\n",
       "      <th>2NT</th>\n",
       "      <td>11</td>\n",
       "      <td>4</td>\n",
       "      <td>1</td>\n",
       "      <td>4</td>\n",
       "      <td>1</td>\n",
       "    </tr>\n",
       "  </tbody>\n",
       "</table>\n",
       "</div>"
      ],
      "text/plain": [
       "KT    A  A1  B  C  D1\n",
       "KV                   \n",
       "1    29   2  8  8  13\n",
       "2     9   0  0  2   8\n",
       "2NT  11   4  1  4   1"
      ]
     },
     "execution_count": 19,
     "metadata": {},
     "output_type": "execute_result"
    }
   ],
   "source": [
    "from scipy.stats import chi2_contingency\n",
    "\n",
    "crosdata = pd.crosstab(df[\"KV\"], [df[\"KT\"]], rownames=[\"KV\"], colnames=[\"KT\"])\n",
    "crosdata"
   ]
  },
  {
   "cell_type": "code",
   "execution_count": 20,
   "metadata": {},
   "outputs": [
    {
     "data": {
      "image/png": "[encoded data removed]",
      "text/plain": [
       "<Figure size 640x480 with 2 Axes>"
      ]
     },
     "metadata": {},
     "output_type": "display_data"
    }
   ],
   "source": [
    "import matplotlib.pyplot as plt\n",
    "\n",
    "plt.pcolor(crosdata, cmap=\"RdBu\")\n",
    "plt.colorbar()\n",
    "plt.show()"
   ]
  },
  {
   "cell_type": "code",
   "execution_count": 21,
   "metadata": {},
   "outputs": [
    {
     "name": "stdout",
     "output_type": "stream",
     "text": [
      "p value is 0.02012461887796485\n",
      "Dependent (reject H0)\n"
     ]
    }
   ],
   "source": [
    "stat, p, dof, expected = chi2_contingency(crosdata)\n",
    "\n",
    "alpha = 0.05\n",
    "print(\"p value is \" + str(p))\n",
    "if p <= alpha:\n",
    "    print(\"Dependent (reject H0)\")\n",
    "else:\n",
    "    print(\"Independent (H0 holds true)\")"
   ]
  },
  {
   "cell_type": "markdown",
   "metadata": {},
   "source": [
    "**Bài tập**: GT và KT có mối quan hệ hay không?"
   ]
  },
  {
   "cell_type": "code",
   "execution_count": 22,
   "metadata": {},
   "outputs": [
    {
     "data": {
      "text/html": [
       "<div>\n",
       "<style scoped>\n",
       "    .dataframe tbody tr th:only-of-type {\n",
       "        vertical-align: middle;\n",
       "    }\n",
       "\n",
       "    .dataframe tbody tr th {\n",
       "        vertical-align: top;\n",
       "    }\n",
       "\n",
       "    .dataframe thead th {\n",
       "        text-align: right;\n",
       "    }\n",
       "</style>\n",
       "<table border=\"1\" class=\"dataframe\">\n",
       "  <thead>\n",
       "    <tr style=\"text-align: right;\">\n",
       "      <th>KT</th>\n",
       "      <th>A</th>\n",
       "      <th>A1</th>\n",
       "      <th>B</th>\n",
       "      <th>C</th>\n",
       "      <th>D1</th>\n",
       "    </tr>\n",
       "    <tr>\n",
       "      <th>GT</th>\n",
       "      <th></th>\n",
       "      <th></th>\n",
       "      <th></th>\n",
       "      <th></th>\n",
       "      <th></th>\n",
       "    </tr>\n",
       "  </thead>\n",
       "  <tbody>\n",
       "    <tr>\n",
       "      <th>F</th>\n",
       "      <td>15</td>\n",
       "      <td>5</td>\n",
       "      <td>4</td>\n",
       "      <td>8</td>\n",
       "      <td>16</td>\n",
       "    </tr>\n",
       "    <tr>\n",
       "      <th>M</th>\n",
       "      <td>34</td>\n",
       "      <td>1</td>\n",
       "      <td>5</td>\n",
       "      <td>6</td>\n",
       "      <td>6</td>\n",
       "    </tr>\n",
       "  </tbody>\n",
       "</table>\n",
       "</div>"
      ],
      "text/plain": [
       "KT   A  A1  B  C  D1\n",
       "GT                  \n",
       "F   15   5  4  8  16\n",
       "M   34   1  5  6   6"
      ]
     },
     "execution_count": 22,
     "metadata": {},
     "output_type": "execute_result"
    }
   ],
   "source": [
    "crosdata = pd.crosstab(df[\"GT\"], [df[\"KT\"]], rownames=[\"GT\"], colnames=[\"KT\"])\n",
    "crosdata"
   ]
  },
  {
   "cell_type": "code",
   "execution_count": 23,
   "metadata": {},
   "outputs": [
    {
     "name": "stdout",
     "output_type": "stream",
     "text": [
      "p value is 0.005044752209452435\n",
      "Dependent (reject H0)\n"
     ]
    }
   ],
   "source": [
    "stat, p, dof, expected = chi2_contingency(crosdata)\n",
    "\n",
    "alpha = 0.05\n",
    "print(\"p value is \" + str(p))\n",
    "if p <= alpha:\n",
    "    print(\"Dependent (reject H0)\")\n",
    "else:\n",
    "    print(\"Independent (H0 holds true)\")"
   ]
  },
  {
   "cell_type": "code",
   "execution_count": 24,
   "metadata": {},
   "outputs": [
    {
     "data": {
      "text/html": [
       "<div>\n",
       "<style scoped>\n",
       "    .dataframe tbody tr th:only-of-type {\n",
       "        vertical-align: middle;\n",
       "    }\n",
       "\n",
       "    .dataframe tbody tr th {\n",
       "        vertical-align: top;\n",
       "    }\n",
       "\n",
       "    .dataframe thead th {\n",
       "        text-align: right;\n",
       "    }\n",
       "</style>\n",
       "<table border=\"1\" class=\"dataframe\">\n",
       "  <thead>\n",
       "    <tr style=\"text-align: right;\">\n",
       "      <th></th>\n",
       "      <th>df</th>\n",
       "      <th>sum_sq</th>\n",
       "      <th>mean_sq</th>\n",
       "      <th>F</th>\n",
       "      <th>PR(&gt;F)</th>\n",
       "    </tr>\n",
       "  </thead>\n",
       "  <tbody>\n",
       "    <tr>\n",
       "      <th>GT</th>\n",
       "      <td>1.0</td>\n",
       "      <td>1.203141</td>\n",
       "      <td>1.203141</td>\n",
       "      <td>0.590538</td>\n",
       "      <td>0.444059</td>\n",
       "    </tr>\n",
       "    <tr>\n",
       "      <th>Residual</th>\n",
       "      <td>98.0</td>\n",
       "      <td>199.661859</td>\n",
       "      <td>2.037366</td>\n",
       "      <td>NaN</td>\n",
       "      <td>NaN</td>\n",
       "    </tr>\n",
       "  </tbody>\n",
       "</table>\n",
       "</div>"
      ],
      "text/plain": [
       "            df      sum_sq   mean_sq         F    PR(>F)\n",
       "GT         1.0    1.203141  1.203141  0.590538  0.444059\n",
       "Residual  98.0  199.661859  2.037366       NaN       NaN"
      ]
     },
     "execution_count": 24,
     "metadata": {},
     "output_type": "execute_result"
    }
   ],
   "source": [
    "import statsmodels.api as sm\n",
    "from statsmodels.formula.api import ols\n",
    "\n",
    "model = ols(\"M1 ~ GT\", data=df).fit()\n",
    "aov_table = sm.stats.anova_lm(model, typ=1)\n",
    "aov_table"
   ]
  },
  {
   "cell_type": "markdown",
   "metadata": {},
   "source": [
    "**Bài tập**: Điểm M2 có phụ thuộc vào khu vực hay không"
   ]
  },
  {
   "cell_type": "code",
   "execution_count": 25,
   "metadata": {},
   "outputs": [
    {
     "data": {
      "text/html": [
       "<div>\n",
       "<style scoped>\n",
       "    .dataframe tbody tr th:only-of-type {\n",
       "        vertical-align: middle;\n",
       "    }\n",
       "\n",
       "    .dataframe tbody tr th {\n",
       "        vertical-align: top;\n",
       "    }\n",
       "\n",
       "    .dataframe thead th {\n",
       "        text-align: right;\n",
       "    }\n",
       "</style>\n",
       "<table border=\"1\" class=\"dataframe\">\n",
       "  <thead>\n",
       "    <tr style=\"text-align: right;\">\n",
       "      <th></th>\n",
       "      <th>df</th>\n",
       "      <th>sum_sq</th>\n",
       "      <th>mean_sq</th>\n",
       "      <th>F</th>\n",
       "      <th>PR(&gt;F)</th>\n",
       "    </tr>\n",
       "  </thead>\n",
       "  <tbody>\n",
       "    <tr>\n",
       "      <th>GT</th>\n",
       "      <td>1.0</td>\n",
       "      <td>3.998401</td>\n",
       "      <td>3.998401</td>\n",
       "      <td>3.653582</td>\n",
       "      <td>0.05887</td>\n",
       "    </tr>\n",
       "    <tr>\n",
       "      <th>Residual</th>\n",
       "      <td>98.0</td>\n",
       "      <td>107.249099</td>\n",
       "      <td>1.094379</td>\n",
       "      <td>NaN</td>\n",
       "      <td>NaN</td>\n",
       "    </tr>\n",
       "  </tbody>\n",
       "</table>\n",
       "</div>"
      ],
      "text/plain": [
       "            df      sum_sq   mean_sq         F   PR(>F)\n",
       "GT         1.0    3.998401  3.998401  3.653582  0.05887\n",
       "Residual  98.0  107.249099  1.094379       NaN      NaN"
      ]
     },
     "execution_count": 25,
     "metadata": {},
     "output_type": "execute_result"
    }
   ],
   "source": [
    "model = ols(\"M2 ~ GT\", data=df).fit()\n",
    "aov_table = sm.stats.anova_lm(model, typ=1)\n",
    "aov_table"
   ]
  },
  {
   "cell_type": "markdown",
   "metadata": {},
   "source": [
    "**Bài tập**: Điểm M3 có phụ thuộc khối thi hay không"
   ]
  },
  {
   "cell_type": "code",
   "execution_count": 26,
   "metadata": {},
   "outputs": [
    {
     "data": {
      "text/html": [
       "<div>\n",
       "<style scoped>\n",
       "    .dataframe tbody tr th:only-of-type {\n",
       "        vertical-align: middle;\n",
       "    }\n",
       "\n",
       "    .dataframe tbody tr th {\n",
       "        vertical-align: top;\n",
       "    }\n",
       "\n",
       "    .dataframe thead th {\n",
       "        text-align: right;\n",
       "    }\n",
       "</style>\n",
       "<table border=\"1\" class=\"dataframe\">\n",
       "  <thead>\n",
       "    <tr style=\"text-align: right;\">\n",
       "      <th></th>\n",
       "      <th>df</th>\n",
       "      <th>sum_sq</th>\n",
       "      <th>mean_sq</th>\n",
       "      <th>F</th>\n",
       "      <th>PR(&gt;F)</th>\n",
       "    </tr>\n",
       "  </thead>\n",
       "  <tbody>\n",
       "    <tr>\n",
       "      <th>KT</th>\n",
       "      <td>4.0</td>\n",
       "      <td>7.442679</td>\n",
       "      <td>1.860670</td>\n",
       "      <td>1.702846</td>\n",
       "      <td>0.155775</td>\n",
       "    </tr>\n",
       "    <tr>\n",
       "      <th>Residual</th>\n",
       "      <td>95.0</td>\n",
       "      <td>103.804821</td>\n",
       "      <td>1.092682</td>\n",
       "      <td>NaN</td>\n",
       "      <td>NaN</td>\n",
       "    </tr>\n",
       "  </tbody>\n",
       "</table>\n",
       "</div>"
      ],
      "text/plain": [
       "            df      sum_sq   mean_sq         F    PR(>F)\n",
       "KT         4.0    7.442679  1.860670  1.702846  0.155775\n",
       "Residual  95.0  103.804821  1.092682       NaN       NaN"
      ]
     },
     "execution_count": 26,
     "metadata": {},
     "output_type": "execute_result"
    }
   ],
   "source": [
    "model = ols(\"M2 ~ KT\", data=df).fit()\n",
    "aov_table = sm.stats.anova_lm(model, typ=1)\n",
    "aov_table"
   ]
  },
  {
   "cell_type": "code",
   "execution_count": 27,
   "metadata": {},
   "outputs": [
    {
     "name": "stdout",
     "output_type": "stream",
     "text": [
      "            df      sum_sq   mean_sq         F    PR(>F)\n",
      "GT         1.0    1.203141  1.203141  0.598960  0.440917\n",
      "KV         2.0    3.493206  1.746603  0.869512  0.422500\n",
      "GT:KV      2.0    7.349290  3.674645  1.829350  0.166186\n",
      "Residual  94.0  188.819363  2.008717       NaN       NaN\n"
     ]
    }
   ],
   "source": [
    "model = ols(\"M1 ~ GT + KV + GT:KV\", data=df).fit()\n",
    "result = sm.stats.anova_lm(model, type=2)\n",
    "print(result)"
   ]
  },
  {
   "cell_type": "markdown",
   "metadata": {},
   "source": [
    "**Bài tập**: Phân tích xem M2 có phụ thuộc trên nhóm KV theo từng loại KT hay không"
   ]
  },
  {
   "cell_type": "code",
   "execution_count": 28,
   "metadata": {},
   "outputs": [
    {
     "name": "stdout",
     "output_type": "stream",
     "text": [
      "            df     sum_sq   mean_sq         F    PR(>F)\n",
      "KV         2.0   6.053398  3.026699  2.987203  0.055626\n",
      "KT         4.0  10.061984  2.515496  2.482671  0.049539\n",
      "KV:KT      8.0   8.688324  1.086040  1.071869  0.390293\n",
      "Residual  87.0  88.150282  1.013222       NaN       NaN\n"
     ]
    }
   ],
   "source": [
    "model = ols(\"M2 ~ KV + KT + KV:KT\", data=df).fit()\n",
    "result = sm.stats.anova_lm(model, type=2)\n",
    "print(result)"
   ]
  },
  {
   "cell_type": "markdown",
   "metadata": {},
   "source": [
    "# HỒI QUY TUYẾN TÍNH\n",
    "\n",
    "Dưới đây là bảng tóm tắt về mô hình hồi quy tuyến tính đơn biến và đa biến:  \n",
    "\n",
    "| **Loại hồi quy**             | **Nội dung** | **Ý nghĩa** | **Ví dụ** |\n",
    "|-----------------------------|-------------|-------------|------------|\n",
    "| **Hồi quy tuyến tính đơn biến** | Mô hình thống kê sử dụng một biến độc lập \\(X\\) để dự đoán biến phụ thuộc \\(Y\\), có dạng: (y = A0 + A1 * x1) | Xác định mối quan hệ tuyến tính giữa một biến đầu vào và một biến đầu ra, giúp dự đoán giá trị của biến phụ thuộc | Dự đoán doanh thu cửa hàng dựa trên chi phí quảng cáo |\n",
    "| **Hồi quy tuyến tính đa biến** | Mô hình mở rộng từ hồi quy đơn biến, sử dụng nhiều biến độc lập \\(X_1, X_2, ..., X_n\\) để dự đoán biến phụ thuộc \\(Y\\), có dạng: (y = A0 + A1 * x1 + A2 * x2 + ... + An * xn) | Xác định ảnh hưởng đồng thời của nhiều biến độc lập đến biến phụ thuộc, giúp cải thiện độ chính xác dự đoán | Dự đoán giá nhà dựa trên diện tích, số phòng, vị trí, năm xây dựng |\n"
   ]
  },
  {
   "cell_type": "markdown",
   "metadata": {},
   "source": [
    "# Mô hình hồi quy tuyến tính đơn biến \n",
    "- Phương trình tổng quát: `y = A0 + A1 * x1`"
   ]
  },
  {
   "cell_type": "markdown",
   "metadata": {},
   "source": [
    "### Hãy cho biết sự ảnh hưởng của điểm M1 đến M3\n",
    "\n",
    "- M3: gọi biến phụ thuộc, mục tiêu\n",
    "- M1: biến độc lập\n",
    "- M3 = f(M1)\n",
    "- Hàm tuyến tính đơn `y = A0 + A1 * x`\n",
    "- A0: hệ tự do (hệ số chặn) - intercept\n",
    "- A1: hệ số - cofficient"
   ]
  },
  {
   "cell_type": "code",
   "execution_count": 29,
   "metadata": {},
   "outputs": [
    {
     "name": "stdout",
     "output_type": "stream",
     "text": [
      "                            OLS Regression Results                            \n",
      "==============================================================================\n",
      "Dep. Variable:                      y   R-squared:                       0.000\n",
      "Model:                            OLS   Adj. R-squared:                 -0.010\n",
      "Method:                 Least Squares   F-statistic:                   0.03439\n",
      "Date:                Wed, 15 Jan 2025   Prob (F-statistic):              0.853\n",
      "Time:                        09:35:22   Log-Likelihood:                -145.41\n",
      "No. Observations:                 100   AIC:                             294.8\n",
      "Df Residuals:                      98   BIC:                             300.0\n",
      "Df Model:                           1                                         \n",
      "Covariance Type:            nonrobust                                         \n",
      "==============================================================================\n",
      "                 coef    std err          t      P>|t|      [0.025      0.975]\n",
      "------------------------------------------------------------------------------\n",
      "const          4.8238      0.295     16.338      0.000       4.238       5.410\n",
      "x1             0.0137      0.074      0.185      0.853      -0.133       0.160\n",
      "==============================================================================\n",
      "Omnibus:                        6.663   Durbin-Watson:                   1.749\n",
      "Prob(Omnibus):                  0.036   Jarque-Bera (JB):                6.173\n",
      "Skew:                           0.586   Prob(JB):                       0.0457\n",
      "Kurtosis:                       3.327   Cond. No.                         11.9\n",
      "==============================================================================\n",
      "\n",
      "Notes:\n",
      "[1] Standard Errors assume that the covariance matrix of the errors is correctly specified.\n"
     ]
    }
   ],
   "source": [
    "import statsmodels.api as sm\n",
    "\n",
    "X_with_constant = sm.add_constant(df[[\"M1\"]].values)\n",
    "y = df[[\"M3\"]].values\n",
    "result = sm.OLS(y, X_with_constant).fit()\n",
    "print(result.summary())"
   ]
  },
  {
   "cell_type": "markdown",
   "metadata": {},
   "source": [
    "- R-squared = 0.000 => M1 không giải thích được gì cho M3, M1 giải thích được 0% sự thay đổi của M3\n",
    "- Prob (F-statistic) = 0.853 > 5% => Mô hình không có ý nghĩa thống kê\n",
    "- const = A0 = 4.823\n",
    "- x1 = A1 = 0.0136\n",
    "- => M3 = 4.8238 + 0.0137 * M1"
   ]
  },
  {
   "cell_type": "markdown",
   "metadata": {},
   "source": [
    "**Bài tập**: Giả sử thí sinh có điểm M1 = 6.7 thì hãy dự báo điểm M3 sẽ là bao nhiêu"
   ]
  },
  {
   "cell_type": "markdown",
   "metadata": {},
   "source": [
    "- Với M1 = 6.7 thì M3 sẽ là:\n",
    "- `y = A0 + A1 * x` => `M3 = 4.8238 + 0.0137 * 6.7`"
   ]
  },
  {
   "cell_type": "markdown",
   "metadata": {},
   "source": [
    "**Bài tập**: Phân tích sự ảnh hưởng của M2 đến điểm thi M3. Hãy cho biết M2 = 5.7 , hỏi M3 được dự báo là bao nhiêu"
   ]
  },
  {
   "cell_type": "code",
   "execution_count": 30,
   "metadata": {},
   "outputs": [
    {
     "name": "stdout",
     "output_type": "stream",
     "text": [
      "                            OLS Regression Results                            \n",
      "==============================================================================\n",
      "Dep. Variable:                      y   R-squared:                       0.008\n",
      "Model:                            OLS   Adj. R-squared:                 -0.002\n",
      "Method:                 Least Squares   F-statistic:                    0.8278\n",
      "Date:                Wed, 15 Jan 2025   Prob (F-statistic):              0.365\n",
      "Time:                        09:35:22   Log-Likelihood:                -145.00\n",
      "No. Observations:                 100   AIC:                             294.0\n",
      "Df Residuals:                      98   BIC:                             299.2\n",
      "Df Model:                           1                                         \n",
      "Covariance Type:            nonrobust                                         \n",
      "==============================================================================\n",
      "                 coef    std err          t      P>|t|      [0.025      0.975]\n",
      "------------------------------------------------------------------------------\n",
      "const          5.2575      0.433     12.139      0.000       4.398       6.117\n",
      "x1            -0.0899      0.099     -0.910      0.365      -0.286       0.106\n",
      "==============================================================================\n",
      "Omnibus:                        8.856   Durbin-Watson:                   1.716\n",
      "Prob(Omnibus):                  0.012   Jarque-Bera (JB):                8.604\n",
      "Skew:                           0.639   Prob(JB):                       0.0135\n",
      "Kurtosis:                       3.658   Cond. No.                         19.1\n",
      "==============================================================================\n",
      "\n",
      "Notes:\n",
      "[1] Standard Errors assume that the covariance matrix of the errors is correctly specified.\n"
     ]
    }
   ],
   "source": [
    "X_with_constant = sm.add_constant(df[[\"M2\"]].values)\n",
    "y = df[[\"M3\"]].values\n",
    "result = sm.OLS(y, X_with_constant).fit()\n",
    "print(result.summary())"
   ]
  },
  {
   "cell_type": "markdown",
   "metadata": {},
   "source": [
    "### Phân tích ảnh hưởng M2 đến M3.\n",
    "- Với `y = A0 + A1 * x` => `M3 = 5.2575 + (-0.0899) * M2`\n",
    "- Với `M2 = 5.7` thì => `M3 = 5.2575 + (-0.0899) * 5.7`"
   ]
  },
  {
   "cell_type": "markdown",
   "metadata": {},
   "source": [
    "# Mô hình hồi quy tuyến tính đa biến (MLR)\n",
    "- Phương trình tổng quát: `y = A0 + A1 * x1 + A2 * x2`"
   ]
  },
  {
   "cell_type": "code",
   "execution_count": 31,
   "metadata": {},
   "outputs": [
    {
     "name": "stdout",
     "output_type": "stream",
     "text": [
      "                            OLS Regression Results                            \n",
      "==============================================================================\n",
      "Dep. Variable:                      y   R-squared:                       0.009\n",
      "Model:                            OLS   Adj. R-squared:                 -0.012\n",
      "Method:                 Least Squares   F-statistic:                    0.4335\n",
      "Date:                Wed, 15 Jan 2025   Prob (F-statistic):              0.649\n",
      "Time:                        09:35:22   Log-Likelihood:                -144.98\n",
      "No. Observations:                 100   AIC:                             296.0\n",
      "Df Residuals:                      97   BIC:                             303.8\n",
      "Df Model:                           2                                         \n",
      "Covariance Type:            nonrobust                                         \n",
      "==============================================================================\n",
      "                 coef    std err          t      P>|t|      [0.025      0.975]\n",
      "------------------------------------------------------------------------------\n",
      "const          5.2006      0.508     10.241      0.000       4.193       6.209\n",
      "x1             0.0161      0.074      0.217      0.828      -0.131       0.163\n",
      "x2            -0.0906      0.099     -0.912      0.364      -0.288       0.107\n",
      "==============================================================================\n",
      "Omnibus:                        8.456   Durbin-Watson:                   1.724\n",
      "Prob(Omnibus):                  0.015   Jarque-Bera (JB):                8.119\n",
      "Skew:                           0.626   Prob(JB):                       0.0173\n",
      "Kurtosis:                       3.619   Cond. No.                         29.0\n",
      "==============================================================================\n",
      "\n",
      "Notes:\n",
      "[1] Standard Errors assume that the covariance matrix of the errors is correctly specified.\n"
     ]
    }
   ],
   "source": [
    "import statsmodels.api as sm\n",
    "\n",
    "X_with_constant = sm.add_constant(df[[\"M1\", \"M2\"]].values)\n",
    "y = df[[\"M3\"]].values\n",
    "result = sm.OLS(y, X_with_constant).fit()\n",
    "print(result.summary())"
   ]
  },
  {
   "cell_type": "markdown",
   "metadata": {},
   "source": [
    "**Bài tập**: Hãy phân tích sự ảnh hưởng của điểm M1, M2 đến M3 trên những thí sinh thi khối A1"
   ]
  },
  {
   "cell_type": "markdown",
   "metadata": {},
   "source": [
    "- R-squared: 0.009 tương ứng 9%. Hay nói cách khác: M1 và M2 giải thích được 0.9% sự thay đổi giá trị M3\n",
    "- Prob (F-statistic) = 0.649 -> Không có ý nghĩa khi sử dụng M1, M2 để giải thích đến M3"
   ]
  },
  {
   "cell_type": "markdown",
   "metadata": {},
   "source": [
    "**Bài tập**: Cho biết nếu M1 = 6.0 và M2 = 5.5 \n",
    "thì dự đoán học sinh đi thi khối A1 sẽ được điểm M3 là nhiêu"
   ]
  },
  {
   "cell_type": "markdown",
   "metadata": {},
   "source": [
    "- Với `M1 = 6.0 và M2 = 5.5` thì điểm M3 sẽ là: `M3 = 5.2006 + 0.4062 * 6.0 + 5.5 * 0.7367`"
   ]
  },
  {
   "cell_type": "code",
   "execution_count": 32,
   "metadata": {},
   "outputs": [
    {
     "name": "stdout",
     "output_type": "stream",
     "text": [
      "                                 OLS Regression Results                                \n",
      "=======================================================================================\n",
      "Dep. Variable:                      y   R-squared (uncentered):                   0.911\n",
      "Model:                            OLS   Adj. R-squared (uncentered):              0.909\n",
      "Method:                 Least Squares   F-statistic:                              500.8\n",
      "Date:                Wed, 15 Jan 2025   Prob (F-statistic):                    3.54e-52\n",
      "Time:                        09:35:22   Log-Likelihood:                         -181.63\n",
      "No. Observations:                 100   AIC:                                      367.3\n",
      "Df Residuals:                      98   BIC:                                      372.5\n",
      "Df Model:                           2                                                  \n",
      "Covariance Type:            nonrobust                                                  \n",
      "==============================================================================\n",
      "                 coef    std err          t      P>|t|      [0.025      0.975]\n",
      "------------------------------------------------------------------------------\n",
      "x1             0.4062      0.091      4.466      0.000       0.226       0.587\n",
      "x2             0.7367      0.083      8.879      0.000       0.572       0.901\n",
      "==============================================================================\n",
      "Omnibus:                        3.155   Durbin-Watson:                   1.975\n",
      "Prob(Omnibus):                  0.206   Jarque-Bera (JB):                2.527\n",
      "Skew:                          -0.358   Prob(JB):                        0.283\n",
      "Kurtosis:                       3.306   Cond. No.                         4.65\n",
      "==============================================================================\n",
      "\n",
      "Notes:\n",
      "[1] R² is computed without centering (uncentered) since the model does not contain a constant.\n",
      "[2] Standard Errors assume that the covariance matrix of the errors is correctly specified.\n"
     ]
    }
   ],
   "source": [
    "X = df[[\"M1\", \"M2\"]].values\n",
    "y = df[[\"M3\"]].values\n",
    "result = sm.OLS(y, X).fit()\n",
    "print(result.summary())"
   ]
  }
 ],
 "metadata": {
  "kernelspec": {
   "display_name": "Python 3",
   "language": "python",
   "name": "python3"
  },
  "language_info": {
   "codemirror_mode": {
    "name": "ipython",
    "version": 3
   },
   "file_extension": ".py",
   "mimetype": "text/x-python",
   "name": "python",
   "nbconvert_exporter": "python",
   "pygments_lexer": "ipython3",
   "version": "3.12.0"
  }
 },
 "nbformat": 4,
 "nbformat_minor": 2
}
